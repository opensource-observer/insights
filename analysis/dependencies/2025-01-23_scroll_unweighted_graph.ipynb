{
 "cells": [
  {
   "cell_type": "code",
   "execution_count": 1,
   "id": "81efdd86-cef4-4515-9188-247bd219552b",
   "metadata": {},
   "outputs": [],
   "source": [
    "import json\n",
    "import networkx as nx\n",
    "import os\n",
    "import pandas as pd"
   ]
  },
  {
   "cell_type": "markdown",
   "id": "b17c6b51",
   "metadata": {},
   "source": [
    "# Settings"
   ]
  },
  {
   "cell_type": "code",
   "execution_count": 2,
   "id": "7a2e8fc3",
   "metadata": {},
   "outputs": [],
   "source": [
    "REFRESH_DATA = True\n",
    "LOCAL_CSV_PATH = 'graphs/scroll_unweighted_graph.csv'\n",
    "LOCAL_JSON_PATH = 'graphs/scroll_unweighted_graph.json'"
   ]
  },
  {
   "cell_type": "code",
   "execution_count": 3,
   "id": "6707dd57",
   "metadata": {},
   "outputs": [],
   "source": [
    "SEED_REPOS = ['scroll-tech']\n",
    "SEED_REPOS = [x.replace('https://github.com/','').lower() for x in SEED_REPOS]\n",
    "PACKAGE_SERVERS = ['NPM', 'RUST', 'GO', 'PIP']"
   ]
  },
  {
   "cell_type": "markdown",
   "id": "1cabde46",
   "metadata": {},
   "source": [
    "# Get SBOMs for repos we care about\n",
    "\n",
    "- Subscribe to the OSO Production dataset on BigQuery (see docs [here](https://docs.opensource.observer/docs/get-started/bigquery))\n",
    "- Enter the following query into your [console](https://console.cloud.google.com/bigquery) to get a fresh copy of the graph\n",
    "- Save it as a CSV file to `graph/unweighted_graph.csv`"
   ]
  },
  {
   "cell_type": "code",
   "execution_count": 4,
   "id": "34076d84-9bda-406f-abed-f7ed07608027",
   "metadata": {},
   "outputs": [
    {
     "name": "stdout",
     "output_type": "stream",
     "text": [
      "Query saved to local CSV file.\n"
     ]
    }
   ],
   "source": [
    "def stringify_array(arr):\n",
    "    return \"'\" + \"','\".join(arr) + \"'\"\n",
    "\n",
    "query = f\"\"\"\n",
    "  -- COPY THIS INTO YOUR BIGQUERY CONSOLE\n",
    "  \n",
    "  select distinct\n",
    "    sboms.from_artifact_namespace as seed_repo_owner,\n",
    "    sboms.from_artifact_name as seed_repo_name,\n",
    "    sboms.to_package_artifact_name as package_name,\n",
    "    package_owners.package_owner_artifact_namespace as package_repo_owner,\n",
    "    package_owners.package_owner_artifact_name as package_repo_name,\n",
    "    sboms.to_package_artifact_source as package_source\n",
    "  from `oso_production.sboms_v0` sboms\n",
    "  join `oso_production.package_owners_v0` package_owners\n",
    "    on\n",
    "      sboms.to_package_artifact_name = package_owners.package_artifact_name\n",
    "      and sboms.to_package_artifact_source = package_owners.package_artifact_source\n",
    "  where\n",
    "    sboms.to_package_artifact_source in ({stringify_array(PACKAGE_SERVERS)})\n",
    "    and package_owners.package_owner_artifact_namespace is not null\n",
    "    and sboms.from_artifact_namespace in ({stringify_array(SEED_REPOS)})\n",
    "\"\"\"\n",
    "\n",
    "if REFRESH_DATA:\n",
    "\n",
    "    from google.cloud import bigquery\n",
    "\n",
    "    # replace with your path to credentials\n",
    "    os.environ['GOOGLE_APPLICATION_CREDENTIALS'] = '../../oso_gcp_credentials.json'\n",
    "\n",
    "    # replace with your project name\n",
    "    client = bigquery.Client(project='opensource-observer')\n",
    "    \n",
    "    # execute the query and save it\n",
    "    results = client.query(query)\n",
    "    df = results.to_dataframe()\n",
    "    df.to_csv(LOCAL_CSV_PATH)\n",
    "    print(\"Query saved to local CSV file.\")\n",
    "\n",
    "else:    \n",
    "    print(query)"
   ]
  },
  {
   "cell_type": "markdown",
   "id": "2e75f732",
   "metadata": {},
   "source": [
    "# Load the graph as a CSV"
   ]
  },
  {
   "cell_type": "code",
   "execution_count": 5,
   "id": "25a9716a",
   "metadata": {},
   "outputs": [
    {
     "data": {
      "text/html": [
       "<div>\n",
       "<style scoped>\n",
       "    .dataframe tbody tr th:only-of-type {\n",
       "        vertical-align: middle;\n",
       "    }\n",
       "\n",
       "    .dataframe tbody tr th {\n",
       "        vertical-align: top;\n",
       "    }\n",
       "\n",
       "    .dataframe thead th {\n",
       "        text-align: right;\n",
       "    }\n",
       "</style>\n",
       "<table border=\"1\" class=\"dataframe\">\n",
       "  <thead>\n",
       "    <tr style=\"text-align: right;\">\n",
       "      <th></th>\n",
       "      <th>Unnamed: 0</th>\n",
       "      <th>seed_repo_owner</th>\n",
       "      <th>seed_repo_name</th>\n",
       "      <th>package_name</th>\n",
       "      <th>package_repo_owner</th>\n",
       "      <th>package_repo_name</th>\n",
       "      <th>package_source</th>\n",
       "      <th>seed_repo_url</th>\n",
       "      <th>package_repo_url</th>\n",
       "    </tr>\n",
       "  </thead>\n",
       "  <tbody>\n",
       "    <tr>\n",
       "      <th>16525</th>\n",
       "      <td>16525</td>\n",
       "      <td>scroll-tech</td>\n",
       "      <td>scroll-contract-deploy-demo</td>\n",
       "      <td>death</td>\n",
       "      <td>jprichardson</td>\n",
       "      <td>node-death</td>\n",
       "      <td>NPM</td>\n",
       "      <td>https://github.com/scroll-tech/scroll-contract...</td>\n",
       "      <td>https://github.com/jprichardson/node-death</td>\n",
       "    </tr>\n",
       "    <tr>\n",
       "      <th>16526</th>\n",
       "      <td>16526</td>\n",
       "      <td>scroll-tech</td>\n",
       "      <td>scroll-contract-deploy-demo</td>\n",
       "      <td>create-hmac</td>\n",
       "      <td>crypto-browserify</td>\n",
       "      <td>createhmac</td>\n",
       "      <td>NPM</td>\n",
       "      <td>https://github.com/scroll-tech/scroll-contract...</td>\n",
       "      <td>https://github.com/crypto-browserify/createhmac</td>\n",
       "    </tr>\n",
       "    <tr>\n",
       "      <th>16527</th>\n",
       "      <td>16527</td>\n",
       "      <td>scroll-tech</td>\n",
       "      <td>scroll-contract-deploy-demo</td>\n",
       "      <td>web3-eth-accounts</td>\n",
       "      <td>chainsafe</td>\n",
       "      <td>web3.js</td>\n",
       "      <td>NPM</td>\n",
       "      <td>https://github.com/scroll-tech/scroll-contract...</td>\n",
       "      <td>https://github.com/chainsafe/web3.js</td>\n",
       "    </tr>\n",
       "    <tr>\n",
       "      <th>16528</th>\n",
       "      <td>16528</td>\n",
       "      <td>scroll-tech</td>\n",
       "      <td>scroll-contract-deploy-demo</td>\n",
       "      <td>@ethersproject/basex</td>\n",
       "      <td>ethers-io</td>\n",
       "      <td>ethers.js</td>\n",
       "      <td>NPM</td>\n",
       "      <td>https://github.com/scroll-tech/scroll-contract...</td>\n",
       "      <td>https://github.com/ethers-io/ethers.js</td>\n",
       "    </tr>\n",
       "    <tr>\n",
       "      <th>16529</th>\n",
       "      <td>16529</td>\n",
       "      <td>scroll-tech</td>\n",
       "      <td>scroll-contract-deploy-demo</td>\n",
       "      <td>neo-async</td>\n",
       "      <td>suguru03</td>\n",
       "      <td>neo-async</td>\n",
       "      <td>NPM</td>\n",
       "      <td>https://github.com/scroll-tech/scroll-contract...</td>\n",
       "      <td>https://github.com/suguru03/neo-async</td>\n",
       "    </tr>\n",
       "  </tbody>\n",
       "</table>\n",
       "</div>"
      ],
      "text/plain": [
       "       Unnamed: 0 seed_repo_owner               seed_repo_name  \\\n",
       "16525       16525     scroll-tech  scroll-contract-deploy-demo   \n",
       "16526       16526     scroll-tech  scroll-contract-deploy-demo   \n",
       "16527       16527     scroll-tech  scroll-contract-deploy-demo   \n",
       "16528       16528     scroll-tech  scroll-contract-deploy-demo   \n",
       "16529       16529     scroll-tech  scroll-contract-deploy-demo   \n",
       "\n",
       "               package_name package_repo_owner package_repo_name  \\\n",
       "16525                 death       jprichardson        node-death   \n",
       "16526           create-hmac  crypto-browserify        createhmac   \n",
       "16527     web3-eth-accounts          chainsafe           web3.js   \n",
       "16528  @ethersproject/basex          ethers-io         ethers.js   \n",
       "16529             neo-async           suguru03         neo-async   \n",
       "\n",
       "      package_source                                      seed_repo_url  \\\n",
       "16525            NPM  https://github.com/scroll-tech/scroll-contract...   \n",
       "16526            NPM  https://github.com/scroll-tech/scroll-contract...   \n",
       "16527            NPM  https://github.com/scroll-tech/scroll-contract...   \n",
       "16528            NPM  https://github.com/scroll-tech/scroll-contract...   \n",
       "16529            NPM  https://github.com/scroll-tech/scroll-contract...   \n",
       "\n",
       "                                      package_repo_url  \n",
       "16525       https://github.com/jprichardson/node-death  \n",
       "16526  https://github.com/crypto-browserify/createhmac  \n",
       "16527             https://github.com/chainsafe/web3.js  \n",
       "16528           https://github.com/ethers-io/ethers.js  \n",
       "16529            https://github.com/suguru03/neo-async  "
      ]
     },
     "execution_count": 5,
     "metadata": {},
     "output_type": "execute_result"
    }
   ],
   "source": [
    "df = pd.read_csv(LOCAL_CSV_PATH)\n",
    "\n",
    "gh = 'https://github.com/'\n",
    "df['seed_repo_url'] = df.apply(lambda x: f\"{gh}{x['seed_repo_owner']}/{x['seed_repo_name']}\", axis=1)\n",
    "df['package_repo_url'] = df.apply(lambda x: f\"{gh}{x['package_repo_owner']}/{x['package_repo_name']}\", axis=1)\n",
    "\n",
    "df.tail()"
   ]
  },
  {
   "cell_type": "code",
   "execution_count": 6,
   "id": "549e9bc9",
   "metadata": {},
   "outputs": [
    {
     "data": {
      "text/plain": [
       "package_source\n",
       "GO       292\n",
       "NPM     3452\n",
       "RUST     976\n",
       "Name: package_name, dtype: int64"
      ]
     },
     "execution_count": 6,
     "metadata": {},
     "output_type": "execute_result"
    }
   ],
   "source": [
    "df.groupby('package_source')['package_name'].nunique()"
   ]
  },
  {
   "cell_type": "code",
   "execution_count": 7,
   "id": "56ec97dc",
   "metadata": {},
   "outputs": [
    {
     "name": "stdout",
     "output_type": "stream",
     "text": [
      "\n",
      "### Most Popular NPM Packages ###\n",
      "['babel', 'definitelytyped', 'ethers.js', 'web3.js', 'ethereumjs-monorepo', 'jest', 'sentry-javascript', 'cssnano', 'solidity-analyzer', 'lodash', 'smithy-typescript', 'esbuild', 'micromark', 'postcss-plugins', 'storybook', 'hardhat', 'webassemblyjs', 'typescript-eslint', 'aws-sdk-js-v3', 'bases', 'change-case', 'svgr', 'edr', 'nodelib', 'waffle', 'proxy-agents', 'typechain', 'node-source-map-support', 'rollup', 'acorn', 'react', 'stablelib', 'workbox', 'cliui', 'resolver-engine', 'core-js', 'form-data', 'walletconnect-utils', 'inquirer.js', 'ieee754', 'cli', 'undici', 'emotion', 'watcher', 'source-map', 'color-convert', 'regenerator', 'truffle', 'brace-expansion', 'color-name', 'wrap-ansi', 'minimatch', 'algoliasearch-client-javascript', 'node-lru-cache', 'ansi-regex', 'balanced-match']\n",
      "\n",
      "### Most Popular RUST Packages ###\n",
      "['windows-rs', 'wasm-bindgen', 'futures-rs', 'utils', 'formats', 'traits', 'tracing', 'crossbeam', 'parity-common', 'rand', 'hashes', 'winapi-rs', 'rust-url', 'clap', 'anstyle', 'serde', 'regex', 'revm', 'toml', 'parking_lot', 'darling', 'algebra', 'core', 'ferrilab', 'ethers-rs', 'tokio', 'strum', 'signatures', 'alloy', 'rayon', 'thiserror', 'parity-scale-codec', 'iana-time-zone', 'tower', 'uint', 'serde_with', 'icu4x', 'core-foundation-rs', 'zerocopy', 'num_enum', 'pin-project', 'zstd-rs', 'proc-macro2', 'syn', 'ff', 'quote', 'unicode-ident', 'lazy-static.rs', 'cfg-if', 'libc', 'once_cell', 'password-hashes', 'num-traits', 'subtle', 'pest', 'cryptocorrosion', 'libsecp256k1', 'coins', 'sp1', 'json', 'rust-hex', 'num-bigint', 'hashbrown']\n",
      "\n",
      "### Most Popular GO Packages ###\n",
      "['opentelemetry-go', 'aws-sdk-go-v2', 'btcd', 'gopsutil', 'sys', 'go-spew', 'go', 'testcontainers-go', 'wmi', 'errors', 'go-sysconf', 'numcpus', 'testify', 'zktrie', 'uint256', 'go-genproto', 'go-iden3-crypto', 'go-ole', 'go-difflib', 'stack', 'bitset', 'protobuf', 'cors', 'golang-set']\n",
      "\n",
      "### Most Popular PIP Packages ###\n",
      "[]\n"
     ]
    }
   ],
   "source": [
    "for pkg in PACKAGE_SERVERS:\n",
    "    print(f\"\\n### Most Popular {pkg} Packages ###\")\n",
    "    pkg_lst = df[(df['package_source']==pkg) & (df['package_repo_owner'] != '')]['package_repo_name'].value_counts()\n",
    "    nth = int(len(pkg_lst) * (0.025 if pkg == 'NPM' else 0.1))\n",
    "    pkg_lst_top = list(pkg_lst.head(nth).index)\n",
    "    print(pkg_lst_top)"
   ]
  },
  {
   "cell_type": "code",
   "execution_count": 8,
   "id": "f23c6eba",
   "metadata": {},
   "outputs": [
    {
     "data": {
      "text/plain": [
       "1292"
      ]
     },
     "execution_count": 8,
     "metadata": {},
     "output_type": "execute_result"
    }
   ],
   "source": [
    "owners = list(df['package_repo_owner'].unique())\n",
    "len(owners)"
   ]
  },
  {
   "cell_type": "markdown",
   "id": "b488e9fe",
   "metadata": {},
   "source": [
    "# Create a network graph"
   ]
  },
  {
   "cell_type": "code",
   "execution_count": 9,
   "id": "d4b1da4a",
   "metadata": {},
   "outputs": [
    {
     "name": "stdout",
     "output_type": "stream",
     "text": [
      "12454\n"
     ]
    }
   ],
   "source": [
    "G = nx.DiGraph()\n",
    "\n",
    "for seed_repo in SEED_REPOS:\n",
    "    G.add_node(f\"{gh}{seed_repo}\", level=1)\n",
    "    \n",
    "for repo_url in df['package_repo_url'].unique():\n",
    "    if repo_url not in G.nodes:\n",
    "        G.add_node(repo_url, level=2)\n",
    "        \n",
    "for _, row in df.iterrows():\n",
    "    G.add_edge(\n",
    "        row['seed_repo_url'],\n",
    "        row['package_repo_url'],\n",
    "        relation=row['package_source']\n",
    "    )\n",
    "    \n",
    "total_edges = G.number_of_edges()\n",
    "print(total_edges)\n",
    "\n",
    "global_weight = 0\n",
    "for u, v in G.edges:\n",
    "    G[u][v]['weight'] = global_weight\n",
    "    \n",
    "graph_json = nx.node_link_data(G)\n",
    "with open(LOCAL_JSON_PATH, \"w\") as f:\n",
    "    json.dump(graph_json, f, indent=2)"
   ]
  }
 ],
 "metadata": {
  "kernelspec": {
   "display_name": "Python 3 (ipykernel)",
   "language": "python",
   "name": "python3"
  },
  "language_info": {
   "codemirror_mode": {
    "name": "ipython",
    "version": 3
   },
   "file_extension": ".py",
   "mimetype": "text/x-python",
   "name": "python",
   "nbconvert_exporter": "python",
   "pygments_lexer": "ipython3",
   "version": "3.11.5"
  }
 },
 "nbformat": 4,
 "nbformat_minor": 5
}
