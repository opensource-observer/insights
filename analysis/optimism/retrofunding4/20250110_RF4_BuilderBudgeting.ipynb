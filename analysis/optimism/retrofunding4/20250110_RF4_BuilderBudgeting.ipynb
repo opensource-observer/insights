{
 "cells": [
  {
   "cell_type": "markdown",
   "id": "c738097b",
   "metadata": {},
   "source": [
    "Here are metrics we'd like to understand from Retro Funding 4:\n",
    "\n",
    "- OP spent per ETH in gas fees rewarded\n",
    "- OP spent per ETH in Collective Contributions rewarded\n",
    "- OP spent per Trusted user\n",
    "- OP spent per active address"
   ]
  },
  {
   "cell_type": "code",
   "execution_count": 1,
   "id": "0e5e429f",
   "metadata": {},
   "outputs": [],
   "source": [
    "import pandas as pd"
   ]
  },
  {
   "cell_type": "code",
   "execution_count": 2,
   "id": "8f9d0fbe",
   "metadata": {},
   "outputs": [
    {
     "data": {
      "text/html": [
       "<div>\n",
       "<style scoped>\n",
       "    .dataframe tbody tr th:only-of-type {\n",
       "        vertical-align: middle;\n",
       "    }\n",
       "\n",
       "    .dataframe tbody tr th {\n",
       "        vertical-align: top;\n",
       "    }\n",
       "\n",
       "    .dataframe thead th {\n",
       "        text-align: right;\n",
       "    }\n",
       "</style>\n",
       "<table border=\"1\" class=\"dataframe\">\n",
       "  <thead>\n",
       "    <tr style=\"text-align: right;\">\n",
       "      <th></th>\n",
       "      <th>application_id</th>\n",
       "      <th>project_name</th>\n",
       "      <th>is_oss</th>\n",
       "      <th>gas_fees</th>\n",
       "      <th>transaction_count</th>\n",
       "      <th>trusted_transaction_count</th>\n",
       "      <th>trusted_transaction_share</th>\n",
       "      <th>trusted_users_onboarded</th>\n",
       "      <th>daily_active_addresses</th>\n",
       "      <th>trusted_daily_active_users</th>\n",
       "      <th>...</th>\n",
       "      <th>0x94db037207f6fb697dbd33524aadffd108819dc8</th>\n",
       "      <th>0xbc39fb41fe0229352774930c5aa3bf1635c2665f</th>\n",
       "      <th>0x34aa3f359a9d614239015126635ce7732c18fdf3</th>\n",
       "      <th>0x0331969e189d63fbc31d771bb04ab44227d748d8</th>\n",
       "      <th>0xcf79c7eaec5bdc1a9e32d099c5d6bdf67e4cf6e8</th>\n",
       "      <th>0x7f22646e85da79953ac09e9b45ee1b3be3a42abc</th>\n",
       "      <th>0x69dc230b06a15796e3f42baf706e0e55d4d5eaa1</th>\n",
       "      <th>0xebb03f5a580ff088bd4269f88a0cfe5eaf00d2b0</th>\n",
       "      <th>median</th>\n",
       "      <th>rf4_allocation</th>\n",
       "    </tr>\n",
       "  </thead>\n",
       "  <tbody>\n",
       "    <tr>\n",
       "      <th>229</th>\n",
       "      <td>0x1c1bb58707493e944e721acf773ee77405f8eb4c8207...</td>\n",
       "      <td>Building Blocks</td>\n",
       "      <td>False</td>\n",
       "      <td>0.006829</td>\n",
       "      <td>1266.0</td>\n",
       "      <td>213.0</td>\n",
       "      <td>0.168246</td>\n",
       "      <td>13.0</td>\n",
       "      <td>3.733607</td>\n",
       "      <td>0.770492</td>\n",
       "      <td>...</td>\n",
       "      <td>143.784931</td>\n",
       "      <td>6977.138582</td>\n",
       "      <td>4305.014275</td>\n",
       "      <td>5627.27387</td>\n",
       "      <td>2813.695117</td>\n",
       "      <td>821.410629</td>\n",
       "      <td>720.176794</td>\n",
       "      <td>6681.501257</td>\n",
       "      <td>857.363532</td>\n",
       "      <td>0.0</td>\n",
       "    </tr>\n",
       "  </tbody>\n",
       "</table>\n",
       "<p>1 rows × 129 columns</p>\n",
       "</div>"
      ],
      "text/plain": [
       "                                        application_id     project_name  \\\n",
       "229  0x1c1bb58707493e944e721acf773ee77405f8eb4c8207...  Building Blocks   \n",
       "\n",
       "     is_oss  gas_fees  transaction_count  trusted_transaction_count  \\\n",
       "229   False  0.006829             1266.0                      213.0   \n",
       "\n",
       "     trusted_transaction_share  trusted_users_onboarded  \\\n",
       "229                   0.168246                     13.0   \n",
       "\n",
       "     daily_active_addresses  trusted_daily_active_users  ...  \\\n",
       "229                3.733607                    0.770492  ...   \n",
       "\n",
       "     0x94db037207f6fb697dbd33524aadffd108819dc8  \\\n",
       "229                                  143.784931   \n",
       "\n",
       "     0xbc39fb41fe0229352774930c5aa3bf1635c2665f  \\\n",
       "229                                 6977.138582   \n",
       "\n",
       "     0x34aa3f359a9d614239015126635ce7732c18fdf3  \\\n",
       "229                                 4305.014275   \n",
       "\n",
       "     0x0331969e189d63fbc31d771bb04ab44227d748d8  \\\n",
       "229                                  5627.27387   \n",
       "\n",
       "     0xcf79c7eaec5bdc1a9e32d099c5d6bdf67e4cf6e8  \\\n",
       "229                                 2813.695117   \n",
       "\n",
       "     0x7f22646e85da79953ac09e9b45ee1b3be3a42abc  \\\n",
       "229                                  821.410629   \n",
       "\n",
       "     0x69dc230b06a15796e3f42baf706e0e55d4d5eaa1  \\\n",
       "229                                  720.176794   \n",
       "\n",
       "     0xebb03f5a580ff088bd4269f88a0cfe5eaf00d2b0      median  rf4_allocation  \n",
       "229                                 6681.501257  857.363532             0.0  \n",
       "\n",
       "[1 rows x 129 columns]"
      ]
     },
     "execution_count": 2,
     "metadata": {},
     "output_type": "execute_result"
    }
   ],
   "source": [
    "df = pd.read_csv('data/private/rf4_results.csv')\n",
    "df.tail(1)"
   ]
  },
  {
   "cell_type": "code",
   "execution_count": 3,
   "id": "c833ba4e",
   "metadata": {},
   "outputs": [
    {
     "data": {
      "text/plain": [
       "2367.5344501573304"
      ]
     },
     "execution_count": 3,
     "metadata": {},
     "output_type": "execute_result"
    }
   ],
   "source": [
    "rewards = df['rf4_allocation']\n",
    "gas_fees = df['gas_fees']\n",
    "addresses = df['monthly_active_addresses']\n",
    "gas_fees.sum()"
   ]
  },
  {
   "cell_type": "code",
   "execution_count": 4,
   "id": "7f33a05a",
   "metadata": {},
   "outputs": [],
   "source": [
    "query = \"\"\"\n",
    "    select\n",
    "      events.event_source,\n",
    "      count(distinct events.from_artifact_name) as num_address,\n",
    "      count(distinct events.trusted_user_id) as unique_users,\n",
    "      sum(events.amount / 1e18) as amount\n",
    "    from `oso.rf4_events_daily_to_project` as events\n",
    "    join `oso.projects_v1` as projects_v1\n",
    "      on events.project_id = projects_v1.project_id\n",
    "    join `static_data_sources.rf4_project_eligibility` as rf4_project_eligibility\n",
    "      on projects_v1.project_name = rf4_project_eligibility.oso_name\n",
    "    where\n",
    "      rf4_project_eligibility.is_approved is true\n",
    "      and events.event_type = 'CONTRACT_INVOCATION_DAILY_L2_GAS_USED'\n",
    "      and events.bucket_day >= '2023-10-01'\n",
    "    group by 1\n",
    "\"\"\"\n",
    "results = [{\n",
    "  \"event_source\": \"OPTIMISM\",\n",
    "  \"num_address\": \"2083101\",\n",
    "  \"unique_users\": \"51303\",\n",
    "  \"amount\": \"763.53973658976042\"\n",
    "}, {\n",
    "  \"event_source\": \"MODE\",\n",
    "  \"num_address\": \"188101\",\n",
    "  \"unique_users\": \"25801\",\n",
    "  \"amount\": \"184.009741333596\"\n",
    "}, {\n",
    "  \"event_source\": \"BASE\",\n",
    "  \"num_address\": \"2557075\",\n",
    "  \"unique_users\": \"65238\",\n",
    "  \"amount\": \"1276.4211504319107\"\n",
    "}, {\n",
    "  \"event_source\": \"ZORA\",\n",
    "  \"num_address\": \"734583\",\n",
    "  \"unique_users\": \"38939\",\n",
    "  \"amount\": \"191.54608365319274\"\n",
    "}, {\n",
    "  \"event_source\": \"FRAX\",\n",
    "  \"num_address\": \"156\",\n",
    "  \"unique_users\": \"14\",\n",
    "  \"amount\": \"0.032961275915125945\"\n",
    "}]"
   ]
  },
  {
   "cell_type": "code",
   "execution_count": 5,
   "id": "f565427c",
   "metadata": {},
   "outputs": [],
   "source": [
    "df_results = pd.DataFrame(results)\n",
    "df_results['amount'] = pd.to_numeric(df_results['amount'])"
   ]
  },
  {
   "cell_type": "code",
   "execution_count": 7,
   "id": "389cf6b9",
   "metadata": {},
   "outputs": [
    {
     "data": {
      "text/plain": [
       "2415.5496732843753"
      ]
     },
     "execution_count": 7,
     "metadata": {},
     "output_type": "execute_result"
    }
   ],
   "source": [
    "df_results['amount'].sum()"
   ]
  },
  {
   "cell_type": "code",
   "execution_count": null,
   "id": "b06390f1",
   "metadata": {},
   "outputs": [],
   "source": [
    "import matplotlib.pyplot as plt\n",
    "import seaborn as sns"
   ]
  },
  {
   "cell_type": "code",
   "execution_count": null,
   "id": "57d681b4",
   "metadata": {},
   "outputs": [],
   "source": []
  },
  {
   "cell_type": "code",
   "execution_count": null,
   "id": "1e57c10b",
   "metadata": {},
   "outputs": [],
   "source": []
  }
 ],
 "metadata": {
  "kernelspec": {
   "display_name": "Python 3 (ipykernel)",
   "language": "python",
   "name": "python3"
  },
  "language_info": {
   "codemirror_mode": {
    "name": "ipython",
    "version": 3
   },
   "file_extension": ".py",
   "mimetype": "text/x-python",
   "name": "python",
   "nbconvert_exporter": "python",
   "pygments_lexer": "ipython3",
   "version": "3.11.5"
  }
 },
 "nbformat": 4,
 "nbformat_minor": 5
}
