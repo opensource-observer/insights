{
 "cells": [
  {
   "cell_type": "code",
   "execution_count": 1,
   "id": "3bfab07a-9b28-4edd-8720-aae321f754e7",
   "metadata": {},
   "outputs": [],
   "source": [
    "from dotenv import load_dotenv\n",
    "import os\n",
    "from pyoso import Client\n",
    "\n",
    "load_dotenv()\n",
    "OSO_API_KEY = os.environ['OSO_API_KEY']\n",
    "client = Client(api_key=OSO_API_KEY)"
   ]
  },
  {
   "cell_type": "markdown",
   "id": "c68afe10-2054-4662-8d8c-2ead9b06e4d3",
   "metadata": {},
   "source": [
    "# Step 1: User inputs a contract address (and chain location)"
   ]
  },
  {
   "cell_type": "code",
   "execution_count": 3,
   "id": "e4a612ed-7ea1-4b0f-86ba-64d5ef90256f",
   "metadata": {},
   "outputs": [],
   "source": [
    "CONTRACT_ADDRESS = '0x2416092f143378750bb29b79ed961ab195cceea5'\n",
    "CHAIN_NAME = 'OPTIMISM'"
   ]
  },
  {
   "cell_type": "markdown",
   "id": "e3aa55b1-3e57-4c31-837f-67b074d3758f",
   "metadata": {},
   "source": [
    "# Step 2: Check if the contract is associated with any known projects in OSO or Atlas"
   ]
  },
  {
   "cell_type": "code",
   "execution_count": 7,
   "id": "aee0dae0-9d6f-4a7b-bd42-58c93cd12872",
   "metadata": {},
   "outputs": [
    {
     "data": {
      "text/html": [
       "<div>\n",
       "<style scoped>\n",
       "    .dataframe tbody tr th:only-of-type {\n",
       "        vertical-align: middle;\n",
       "    }\n",
       "\n",
       "    .dataframe tbody tr th {\n",
       "        vertical-align: top;\n",
       "    }\n",
       "\n",
       "    .dataframe thead th {\n",
       "        text-align: right;\n",
       "    }\n",
       "</style>\n",
       "<table border=\"1\" class=\"dataframe\">\n",
       "  <thead>\n",
       "    <tr style=\"text-align: right;\">\n",
       "      <th></th>\n",
       "      <th>artifact_id</th>\n",
       "      <th>project_source</th>\n",
       "      <th>project_id</th>\n",
       "      <th>project_name</th>\n",
       "      <th>display_name</th>\n",
       "    </tr>\n",
       "  </thead>\n",
       "  <tbody>\n",
       "    <tr>\n",
       "      <th>0</th>\n",
       "      <td>R/4j0CBAMP7Y6IWPuKfXET2QZWa8hgQ2I/FN+XQd2UI=</td>\n",
       "      <td>OSS_DIRECTORY</td>\n",
       "      <td>8cby1aMn7r59alz/BdKfcrjF0m4W+I2AYffy8Ac85Iw=</td>\n",
       "      <td>renzo-protocol</td>\n",
       "      <td>Renzo Protocol</td>\n",
       "    </tr>\n",
       "  </tbody>\n",
       "</table>\n",
       "</div>"
      ],
      "text/plain": [
       "                                    artifact_id project_source  \\\n",
       "0  R/4j0CBAMP7Y6IWPuKfXET2QZWa8hgQ2I/FN+XQd2UI=  OSS_DIRECTORY   \n",
       "\n",
       "                                     project_id    project_name  \\\n",
       "0  8cby1aMn7r59alz/BdKfcrjF0m4W+I2AYffy8Ac85Iw=  renzo-protocol   \n",
       "\n",
       "     display_name  \n",
       "0  Renzo Protocol  "
      ]
     },
     "execution_count": 7,
     "metadata": {},
     "output_type": "execute_result"
    }
   ],
   "source": [
    "result = client.to_pandas(f\"\"\"\n",
    "  SELECT\n",
    "    abp.artifact_id,\n",
    "    p.project_source,\n",
    "    p.project_id,\n",
    "    p.project_name,\n",
    "    p.display_name\n",
    "  FROM artifacts_by_project_v1 AS abp\n",
    "  JOIN projects_v1 AS p ON abp.project_id = p.project_id\n",
    "  WHERE\n",
    "    abp.artifact_name = LOWER('{CONTRACT_ADDRESS}')\n",
    "    AND abp.artifact_source = UPPER('{CHAIN_NAME}')\n",
    "\"\"\")\n",
    "result"
   ]
  },
  {
   "cell_type": "code",
   "execution_count": 14,
   "id": "ae7f44c7-56ec-4f46-9542-e9690e492043",
   "metadata": {},
   "outputs": [
    {
     "data": {
      "text/plain": [
       "'R/4j0CBAMP7Y6IWPuKfXET2QZWa8hgQ2I/FN+XQd2UI='"
      ]
     },
     "execution_count": 14,
     "metadata": {},
     "output_type": "execute_result"
    }
   ],
   "source": [
    "if not result.empty:\n",
    "    ARTIFACT_ID = result['artifact_id'].values[0]\n",
    "ARTIFACT_ID    "
   ]
  },
  {
   "cell_type": "markdown",
   "id": "f4324ace-2ce7-40fb-87c0-e26e3ae916f3",
   "metadata": {},
   "source": [
    "# Step 3: Check if the contract has sufficient activity to qualify for the onchain builder round\n",
    "\n",
    "Warning: this is current a VERY LARGE table and may take a few minutes to process."
   ]
  },
  {
   "cell_type": "code",
   "execution_count": 16,
   "id": "babb3c6b-9345-485f-8bbe-ee08aec79bbb",
   "metadata": {},
   "outputs": [],
   "source": [
    "START_DATE = '2024-12-01'\n",
    "END_DATE = '2025-06-01'"
   ]
  },
  {
   "cell_type": "code",
   "execution_count": 19,
   "id": "e7b53c74-6887-4632-932b-24f2145d3b84",
   "metadata": {},
   "outputs": [
    {
     "data": {
      "text/html": [
       "<div>\n",
       "<style scoped>\n",
       "    .dataframe tbody tr th:only-of-type {\n",
       "        vertical-align: middle;\n",
       "    }\n",
       "\n",
       "    .dataframe tbody tr th {\n",
       "        vertical-align: top;\n",
       "    }\n",
       "\n",
       "    .dataframe thead th {\n",
       "        text-align: right;\n",
       "    }\n",
       "</style>\n",
       "<table border=\"1\" class=\"dataframe\">\n",
       "  <thead>\n",
       "    <tr style=\"text-align: right;\">\n",
       "      <th></th>\n",
       "      <th>transaction_count</th>\n",
       "      <th>active_days</th>\n",
       "    </tr>\n",
       "  </thead>\n",
       "  <tbody>\n",
       "    <tr>\n",
       "      <th>0</th>\n",
       "      <td>209705</td>\n",
       "      <td>178</td>\n",
       "    </tr>\n",
       "  </tbody>\n",
       "</table>\n",
       "</div>"
      ],
      "text/plain": [
       "   transaction_count  active_days\n",
       "0             209705          178"
      ]
     },
     "execution_count": 19,
     "metadata": {},
     "output_type": "execute_result"
    }
   ],
   "source": [
    "metrics = client.to_pandas(f\"\"\"\n",
    "  SELECT\n",
    "    SUM(tm.amount) AS transaction_count,\n",
    "    COUNT(DISTINCT tm.sample_date) AS active_days\n",
    "  FROM timeseries_metrics_by_artifact_v0 AS tm\n",
    "  JOIN metrics_v0 AS m ON tm.metric_id = m.metric_id\n",
    "  WHERE\n",
    "    m.metric_name = '{CHAIN_NAME}_contract_invocations_daily'\n",
    "    AND tm.artifact_id = '{ARTIFACT_ID}'\n",
    "    AND tm.sample_date BETWEEN DATE('{START_DATE}') AND DATE('{END_DATE}')\n",
    "\"\"\")\n",
    "metrics"
   ]
  },
  {
   "cell_type": "code",
   "execution_count": 26,
   "id": "af92de93-7882-44a7-9afe-94a8723b8c5a",
   "metadata": {},
   "outputs": [
    {
     "name": "stdout",
     "output_type": "stream",
     "text": [
      "Eligible\n"
     ]
    }
   ],
   "source": [
    "TRANSACTION_THRESHOLD = 1000\n",
    "ACTIVE_DAYS_THRESHOLD = 10\n",
    "if metrics['transaction_count'].max() >= TRANSACTION_THRESHOLD and metrics['active_days'].max() >= ACTIVE_DAYS_THRESHOLD:\n",
    "    print(\"Eligible\")\n",
    "else:\n",
    "    print(\"Not eligible\")"
   ]
  },
  {
   "cell_type": "markdown",
   "id": "54effe30-a0a8-4b63-a6be-fb4b63270a63",
   "metadata": {},
   "source": [
    "# Step 4: Look up expected deployer"
   ]
  },
  {
   "cell_type": "code",
   "execution_count": 32,
   "id": "e22962b2-0c95-4b4d-903e-178c7d4da514",
   "metadata": {},
   "outputs": [
    {
     "data": {
      "text/html": [
       "<div>\n",
       "<style scoped>\n",
       "    .dataframe tbody tr th:only-of-type {\n",
       "        vertical-align: middle;\n",
       "    }\n",
       "\n",
       "    .dataframe tbody tr th {\n",
       "        vertical-align: top;\n",
       "    }\n",
       "\n",
       "    .dataframe thead th {\n",
       "        text-align: right;\n",
       "    }\n",
       "</style>\n",
       "<table border=\"1\" class=\"dataframe\">\n",
       "  <thead>\n",
       "    <tr style=\"text-align: right;\">\n",
       "      <th></th>\n",
       "      <th>0</th>\n",
       "    </tr>\n",
       "  </thead>\n",
       "  <tbody>\n",
       "    <tr>\n",
       "      <th>deployment_date</th>\n",
       "      <td>2024-06-14</td>\n",
       "    </tr>\n",
       "    <tr>\n",
       "      <th>contract_address</th>\n",
       "      <td>0x2416092f143378750bb29b79ed961ab195cceea5</td>\n",
       "    </tr>\n",
       "    <tr>\n",
       "      <th>contract_namespace</th>\n",
       "      <td>OPTIMISM</td>\n",
       "    </tr>\n",
       "    <tr>\n",
       "      <th>originating_address</th>\n",
       "      <td>0xadef586efb3287da4d7d1cbe15f12e0be69e0df0</td>\n",
       "    </tr>\n",
       "    <tr>\n",
       "      <th>factory_address</th>\n",
       "      <td>0xf30cec7686d8b0015bbcbfe55f79dd75d0302ec5</td>\n",
       "    </tr>\n",
       "    <tr>\n",
       "      <th>root_deployer_address</th>\n",
       "      <td>0xadef586efb3287da4d7d1cbe15f12e0be69e0df0</td>\n",
       "    </tr>\n",
       "    <tr>\n",
       "      <th>sort_weight</th>\n",
       "      <td>560908</td>\n",
       "    </tr>\n",
       "  </tbody>\n",
       "</table>\n",
       "</div>"
      ],
      "text/plain": [
       "                                                                0\n",
       "deployment_date                                        2024-06-14\n",
       "contract_address       0x2416092f143378750bb29b79ed961ab195cceea5\n",
       "contract_namespace                                       OPTIMISM\n",
       "originating_address    0xadef586efb3287da4d7d1cbe15f12e0be69e0df0\n",
       "factory_address        0xf30cec7686d8b0015bbcbfe55f79dd75d0302ec5\n",
       "root_deployer_address  0xadef586efb3287da4d7d1cbe15f12e0be69e0df0\n",
       "sort_weight                                                560908"
      ]
     },
     "execution_count": 32,
     "metadata": {},
     "output_type": "execute_result"
    }
   ],
   "source": [
    "contract = client.to_pandas(f\"\"\"\n",
    "\n",
    "  SELECT *\n",
    "  FROM contracts_v0\n",
    "  WHERE\n",
    "    contract_address = '{CONTRACT_ADDRESS}'\n",
    "    AND contract_namespace = '{CHAIN_NAME}'\n",
    "\n",
    "\"\"\")\n",
    "contract.T"
   ]
  },
  {
   "cell_type": "code",
   "execution_count": 31,
   "id": "32b84063-691c-4b82-872a-ad1485b8fe28",
   "metadata": {},
   "outputs": [
    {
     "name": "stdout",
     "output_type": "stream",
     "text": [
      "Project can claim this contract by verifying ownership of deployer address 0xadef586efb3287da4d7d1cbe15f12e0be69e0df0\n"
     ]
    }
   ],
   "source": [
    "if not contract.empty:\n",
    "    print(\"Project can claim this contract by verifying ownership of deployer address\", contract['root_deployer_address'].values[0])"
   ]
  }
 ],
 "metadata": {
  "kernelspec": {
   "display_name": "Python 3 (ipykernel)",
   "language": "python",
   "name": "python3"
  },
  "language_info": {
   "codemirror_mode": {
    "name": "ipython",
    "version": 3
   },
   "file_extension": ".py",
   "mimetype": "text/x-python",
   "name": "python",
   "nbconvert_exporter": "python",
   "pygments_lexer": "ipython3",
   "version": "3.11.7"
  }
 },
 "nbformat": 4,
 "nbformat_minor": 5
}
