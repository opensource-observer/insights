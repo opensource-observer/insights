{
 "cells": [
  {
   "cell_type": "code",
   "execution_count": 1,
   "metadata": {},
   "outputs": [],
   "source": [
    "from dlt.sources.rest_api.typing import RESTAPIConfig\n",
    "#from ..factories.rest import create_rest_factory_asset\n",
    "import json"
   ]
  },
  {
   "cell_type": "code",
   "execution_count": 2,
   "metadata": {},
   "outputs": [],
   "source": [
    "with open(\"metrics/defillama.json\", \"r\") as f:\n",
    "    defi_llama = json.load(f)"
   ]
  },
  {
   "cell_type": "code",
   "execution_count": 6,
   "metadata": {},
   "outputs": [],
   "source": [
    "DEFI_LLAMA_PROTOCOLS = []\n",
    "\n",
    "for project in defi_llama:\n",
    "    DEFI_LLAMA_PROTOCOLS.extend(list(set(project.values())))"
   ]
  },
  {
   "cell_type": "code",
   "execution_count": null,
   "metadata": {},
   "outputs": [],
   "source": [
    "config: RESTAPIConfig = {\n",
    "    \"client\": {\n",
    "        \"base_url\": \"https://api.llama.fi/\",\n",
    "    },\n",
    "    \"resources\": list(\n",
    "        map(\n",
    "            lambda protocol: {\n",
    "                \"name\": f\"{protocol.replace('-', '_')}\",\n",
    "                \"endpoint\": {\n",
    "                    \"path\": f\"protocol/{protocol}\",\n",
    "                    \"data_selector\": \"$\",\n",
    "                },\n",
    "            },\n",
    "            DEFI_LLAMA_PROTOCOLS,\n",
    "        )\n",
    "    ),\n",
    "}\n",
    "\n",
    "dlt_assets = create_rest_factory_asset(\n",
    "    config=config,\n",
    ")\n",
    "\n",
    "defillama_tvl_assets = dlt_assets(\n",
    "    key_prefix=[\"defillama\", \"tvl\"],\n",
    ")"
   ]
  }
 ],
 "metadata": {
  "kernelspec": {
   "display_name": "Python 3 (ipykernel)",
   "language": "python",
   "name": "python3"
  },
  "language_info": {
   "codemirror_mode": {
    "name": "ipython",
    "version": 3
   },
   "file_extension": ".py",
   "mimetype": "text/x-python",
   "name": "python",
   "nbconvert_exporter": "python",
   "pygments_lexer": "ipython3",
   "version": "3.12.8"
  }
 },
 "nbformat": 4,
 "nbformat_minor": 2
}
