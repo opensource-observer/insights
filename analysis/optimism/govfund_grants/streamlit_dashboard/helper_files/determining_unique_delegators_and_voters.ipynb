{
 "cells": [
  {
   "cell_type": "code",
   "execution_count": 55,
   "metadata": {},
   "outputs": [],
   "source": [
    "import pandas as pd\n",
    "from datetime import datetime, timedelta\n",
    "import json"
   ]
  },
  {
   "cell_type": "code",
   "execution_count": 53,
   "metadata": {},
   "outputs": [],
   "source": [
    "with open(\"updated_grants_reviewed.json\", \"r\") as f:\n",
    "    grants = json.load(f)"
   ]
  },
  {
   "cell_type": "code",
   "execution_count": null,
   "metadata": {},
   "outputs": [],
   "source": [
    "delegator_df = pd.read_csv(\"../data/delegator_df.csv\")\n",
    "voter_df = pd.read_csv(\"../data/voter_df.csv\")"
   ]
  },
  {
   "cell_type": "code",
   "execution_count": 35,
   "metadata": {},
   "outputs": [
    {
     "data": {
      "text/plain": [
       "Index(['dt', 'block_timestamp', 'block_number', 'transaction_hash',\n",
       "       'voter_address', 'proposal_id', 'decision', 'reason', 'voting_power'],\n",
       "      dtype='object')"
      ]
     },
     "execution_count": 35,
     "metadata": {},
     "output_type": "execute_result"
    }
   ],
   "source": [
    "voter_df.columns"
   ]
  },
  {
   "cell_type": "code",
   "execution_count": 32,
   "metadata": {},
   "outputs": [],
   "source": [
    "def query_delegates(df, start_date_str, addresses):\n",
    "\n",
    "    filtered_df = df[df['delegated_to'].isin(addresses)]\n",
    "    project_users = filtered_df['delegator'].dropna().unique()\n",
    "    start_date = pd.to_datetime(start_date_str) \n",
    "\n",
    "    df['dt'] = pd.to_datetime(df['dt'])\n",
    "\n",
    "    # only keep rows where the delegator is a project user and dt > start_date\n",
    "    tx_filtered = df[\n",
    "        (df['delegator'].isin(project_users)) & \n",
    "        (df['dt'] > start_date)\n",
    "    ].copy()\n",
    "\n",
    "    tx_filtered.sort_values(by=['delegator', 'dt'], inplace=True)\n",
    "\n",
    "    # calculate lag (previous_tx_date)\n",
    "    tx_filtered['previous_tx_date'] = tx_filtered.groupby('delegator')['dt'].shift(1)\n",
    "\n",
    "    tx_filtered['date_diff'] = (tx_filtered['dt'] - tx_filtered['previous_tx_date']).dt.days\n",
    "\n",
    "    # first seen if no prior tx or gap > 90 days\n",
    "    rolling_first_seen = tx_filtered[\n",
    "        tx_filtered['previous_tx_date'].isnull() | (tx_filtered['date_diff'] > 90)\n",
    "    ][['delegator', 'dt']].rename(columns={'dt': 'first_seen_date'})\n",
    "\n",
    "    date_series = pd.DataFrame({\n",
    "        'date': pd.date_range(start=start_date, end=pd.Timestamp.today())\n",
    "    })\n",
    "\n",
    "    daily_counts = (\n",
    "        date_series\n",
    "        .merge(rolling_first_seen, left_on='date', right_on='first_seen_date', how='left')\n",
    "        .groupby('date')\n",
    "        .delegator.nunique()\n",
    "        .reset_index(name='unique_delegates')\n",
    "    )\n",
    "\n",
    "    daily_counts.sort_values('date', inplace=True)\n",
    "\n",
    "    return daily_counts"
   ]
  },
  {
   "cell_type": "code",
   "execution_count": 75,
   "metadata": {},
   "outputs": [
    {
     "name": "stdout",
     "output_type": "stream",
     "text": [
      "Working on Optimism GovQuests\n",
      "Working on Event Horizon Public Access Voter Pool\n"
     ]
    }
   ],
   "source": [
    "for grant in grants:\n",
    "    if \"north_star\" in grant.keys() and grant[\"north_star\"] == \"new_delegators\":\n",
    "        project_name = grant[\"project_name\"]\n",
    "        clean_name = project_name.lower().replace(\" \", \"_\").replace(\".\", \"-\").replace(\"/\",\"-\")\n",
    "        print(f\"Working on {project_name}\")\n",
    "\n",
    "        initial_delivery = datetime.strptime(grant[\"meta\"][\"Initial Delivery Date\"], \"%Y-%m-%dT%H:%M:%S\")\n",
    "\n",
    "        # Calculate time passed since initial delivery date\n",
    "        time_since = datetime.now() - initial_delivery\n",
    "\n",
    "        # Go backwards that same amount of time\n",
    "        start_date = initial_delivery - time_since\n",
    "        start_date_str = start_date.strftime(\"%m-%d-%Y\")\n",
    "\n",
    "        curr_addresses = list(set(list(address.keys())[0] for address in grant['addresses']))\n",
    "\n",
    "        delegator_result = query_delegates(delegator_df, start_date_str, curr_addresses)\n",
    "        delegator_result[\"unique_voters\"] = 0\n",
    "        delegator_result.to_csv(f\"data/{clean_name}/{clean_name}_delegators_and_voters.csv\", index=False)"
   ]
  },
  {
   "cell_type": "code",
   "execution_count": 38,
   "metadata": {},
   "outputs": [],
   "source": [
    "def query_voters(df, addresses, start_date):\n",
    "\n",
    "    start_date = pd.to_datetime(start_date)\n",
    "    df['dt'] = pd.to_datetime(df['dt'])\n",
    "    filtered_df = df[df['voter_address'].isin(addresses)]\n",
    "\n",
    "    # filter for dt > start_date\n",
    "    tx_filtered = filtered_df[filtered_df['dt'] > start_date].copy()\n",
    "\n",
    "    # sort and compute lag by proposal_id\n",
    "    tx_filtered.sort_values(by=['proposal_id', 'dt'], inplace=True)\n",
    "    tx_filtered['previous_tx_date'] = tx_filtered.groupby('proposal_id')['dt'].shift(1)\n",
    "\n",
    "    # first seen proposal_id if no prior tx or gap > 90 days\n",
    "    tx_filtered['date_diff'] = (tx_filtered['dt'] - tx_filtered['previous_tx_date']).dt.days\n",
    "\n",
    "    rolling_first_seen = tx_filtered[\n",
    "        tx_filtered['previous_tx_date'].isnull() | (tx_filtered['date_diff'] > 90)\n",
    "    ][['proposal_id', 'dt']].rename(columns={'dt': 'first_seen_date'})\n",
    "\n",
    "    # create date series from start_date to today\n",
    "    date_series = pd.DataFrame({\n",
    "        'date': pd.date_range(start=start_date, end=pd.Timestamp.today())\n",
    "    })\n",
    "\n",
    "    # count distinct proposal_id (voters) per day\n",
    "    daily_counts = (\n",
    "        date_series\n",
    "        .merge(rolling_first_seen, left_on='date', right_on='first_seen_date', how='left')\n",
    "        .groupby('date')\n",
    "        .proposal_id.nunique()\n",
    "        .reset_index(name='unique_voters')\n",
    "    )\n",
    "\n",
    "    return daily_counts"
   ]
  }
 ],
 "metadata": {
  "kernelspec": {
   "display_name": "Python 3 (ipykernel)",
   "language": "python",
   "name": "python3"
  },
  "language_info": {
   "codemirror_mode": {
    "name": "ipython",
    "version": 3
   },
   "file_extension": ".py",
   "mimetype": "text/x-python",
   "name": "python",
   "nbconvert_exporter": "python",
   "pygments_lexer": "ipython3",
   "version": "3.12.8"
  }
 },
 "nbformat": 4,
 "nbformat_minor": 2
}
