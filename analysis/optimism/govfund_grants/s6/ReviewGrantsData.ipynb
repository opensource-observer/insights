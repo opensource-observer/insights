{
 "cells": [
  {
   "cell_type": "code",
   "execution_count": 1,
   "id": "4e609073",
   "metadata": {},
   "outputs": [],
   "source": [
    "from google.cloud import bigquery\n",
    "import json\n",
    "import pandas as pd\n",
    "import os\n",
    "from ossdirectory import fetch_data\n",
    "from ossdirectory.fetch import OSSDirectory"
   ]
  },
  {
   "cell_type": "code",
   "execution_count": 2,
   "id": "e694ef74",
   "metadata": {},
   "outputs": [],
   "source": [
    "ossd: OSSDirectory = fetch_data()\n",
    "address_by_project = {}\n",
    "for project in ossd.projects:\n",
    "    project_name = project.get('name', '')\n",
    "    for addr_entry in project.get('blockchain', []):\n",
    "        address = addr_entry.get('address', '')\n",
    "        networks = addr_entry.get('networks', [])\n",
    "        tags = addr_entry.get('tags', [])\n",
    "        address_by_project[address] = {\n",
    "            'networks': networks,\n",
    "            'tags': tags,\n",
    "            'name': project_name\n",
    "        }"
   ]
  },
  {
   "cell_type": "code",
   "execution_count": 3,
   "id": "380987d4",
   "metadata": {},
   "outputs": [
    {
     "name": "stdout",
     "output_type": "stream",
     "text": [
      "Missing contract for: Expanding restaking on Optimism 0x73a7fe27fe9545d53924e529acf11f3073841b9e\n",
      "Missing contract for: Expanding restaking on Optimism 0xe48b4e392e4fc29ac2600c3c8efe0404a15d60d9\n",
      "Missing wallet for: FrameHack #2 0xe7910f8a4b7efcf2964f017e34e4e2d9aa06edc3\n",
      "Missing contract for: FrameHack #2 0xe7910f8a4b7efcf2964f017e34e4e2d9aa06edc3\n",
      "Missing wallet for: Optimism GovQuests 0xa41214012d4462ecbb0724673897ee0dcc0fdf49\n",
      "Missing contract for: Optimism GovQuests 0xa41214012d4462ecbb0724673897ee0dcc0fdf49\n",
      "Missing contract for: Boosting LRT adoption with Compound Finance 0xc9ad14cefb29506534a973f7e0e97e68ece4fa3f\n",
      "Missing contract for: Let's Get HAI 0xd81ae96c5d466592ca49f194dd3fd047ba0ea3e6\n",
      "Missing contract for: Yield Bearing asset utility with Compound 0xc9ad14cefb29506534a973f7e0e97e68ece4fa3f\n",
      "Missing wallet for: Swan Superchain Application 0xe945d527de9c5121eda9cf48e23cdf691894d4c0\n",
      "Missing wallet for: Cyber 0xde5990625c5b70b6af6d6991f17abfc8c27acc72\n",
      "Missing wallet for: DelegateMatch: Governance incentives for a delegation Farcaster frame. 0xe40714459d9493994be025f04afc38d2bcf42f8e\n",
      "Missing wallet for: Scout Game: onchain gamified talent referral platform 0x93326d53d1e8ebf0af1ff1b233c46c67c96e4d8d\n",
      "Missing contract for: Uniswap: YBA Grant 0x732f5baac411e427d130fed03c2e82a3e0d64d35\n",
      "Missing contract for: Uniswap: LRT Grant 0x732f5baac411e427d130fed03c2e82a3e0d64d35\n",
      "Missing wallet for: Mint Blockchain- grow the Superchain NFT economy 0x93d2118bdd8b5e243020f01a1391b2e3cb137a56\n",
      "Missing wallet for: Alchemix Grant Request 0x8cca517370cbfc33cc9810bfc7440832c47d251c\n",
      "Missing contract for: Alchemix Grant Request 0x8cca517370cbfc33cc9810bfc7440832c47d251c\n",
      "Missing wallet for: Toros Finance 0xdc1f5b81eec7e6391aeb6c8e5a2000d3a9aa8e6d\n",
      "Missing contract for: Toros Finance 0xdc1f5b81eec7e6391aeb6c8e5a2000d3a9aa8e6d\n",
      "Missing wallet for: Ionic Superchain Borrow/Lend Aggregator 0xff0375667570d0e6572360e9dfbe8f2a6d85ae87\n"
     ]
    }
   ],
   "source": [
    "with open(\"data/updated_grants.json\", \"r\") as f:\n",
    "    grant_data = json.load(f)\n",
    "\n",
    "address_list = []    \n",
    "    \n",
    "for g in grant_data:\n",
    "    \n",
    "    addresses = []        \n",
    "    \n",
    "    wallet = g.pop('wallet_address').strip().lower()\n",
    "    l2_address = g.pop('l2_addresses').strip().lower()\n",
    "    if wallet != l2_address:\n",
    "        wallet = l2_address\n",
    "        \n",
    "    if wallet not in address_by_project:\n",
    "        print(\"Missing wallet for:\", g['project_name'], wallet)\n",
    "        addresses.append({\n",
    "            wallet: {\n",
    "                'networks': ['optimism'],\n",
    "                'tags': ['wallet']\n",
    "            }\n",
    "        })\n",
    "    else:\n",
    "        addresses.append({\n",
    "            wallet: address_by_project.get(wallet)\n",
    "        })    \n",
    "    \n",
    "    if g.get('contract_addresses'):\n",
    "        contract_addresses = g.pop('contract_addresses')\n",
    "        if isinstance(contract_addresses, list):\n",
    "            for a in set(contract_addresses):\n",
    "                a = a.strip().lower()\n",
    "                if a not in address_by_project:\n",
    "                    print(\"Missing contract for:\", g['project_name'], a)\n",
    "                    addresses.append({\n",
    "                        a: {\n",
    "                            'networks': [],\n",
    "                            'tags': ['contract']\n",
    "                        }\n",
    "                    })\n",
    "                else:\n",
    "                    addresses.append({a: address_by_project.get(a)})\n",
    "\n",
    "    g.update({'addresses': addresses})\n",
    "    address_list.extend([a for addr in addresses for a in addr])\n",
    "\n",
    "address_list = list(set(address_list))"
   ]
  },
  {
   "cell_type": "code",
   "execution_count": 4,
   "id": "90d0d77a",
   "metadata": {},
   "outputs": [
    {
     "data": {
      "text/plain": [
       "chain\n",
       "optimism      59\n",
       "base          19\n",
       "mode           6\n",
       "fraxtal        5\n",
       "worldchain     3\n",
       "zora           3\n",
       "redstone       2\n",
       "bob            2\n",
       "mint           1\n",
       "lisk           1\n",
       "unichain       1\n",
       "swan           1\n",
       "kroma          1\n",
       "Name: count, dtype: int64"
      ]
     },
     "execution_count": 4,
     "metadata": {},
     "output_type": "execute_result"
    }
   ],
   "source": [
    "os.environ['GOOGLE_APPLICATION_CREDENTIALS'] = '../../../../oso_gcp_credentials.json'\n",
    "client = bigquery.Client('opensource-observer')\n",
    "\n",
    "addr_list_str = \"'\" + \"','\".join(address_list) + \"'\"\n",
    "query = f\"\"\"\n",
    "    select\n",
    "      to_address,\n",
    "      chain,\n",
    "      count(*) as count_txns\n",
    "    from `optimism_superchain_raw_onchain_data.transactions`\n",
    "    where\n",
    "        dt > '2024-09-01'\n",
    "        and to_address in ({addr_list_str})\n",
    "    group by 1,2\n",
    "\n",
    "\"\"\"\n",
    "\n",
    "#result = client.query(query)\n",
    "#df_bq = result.to_dataframe()\n",
    "#df_bq.to_csv('data/txn_counts.csv')\n",
    "df_bq = pd.read_csv('data/txn_counts.csv', index_col=0)\n",
    "df_bq['chain'] = df_bq['chain'].str.replace('op', 'optimism')\n",
    "df_bq['chain'].value_counts()"
   ]
  },
  {
   "cell_type": "code",
   "execution_count": 5,
   "id": "294d2689",
   "metadata": {},
   "outputs": [],
   "source": [
    "for g in grant_data:\n",
    "    for a_dict in g['addresses']:\n",
    "        a = list(a_dict.keys())[0]\n",
    "        dff_bq = df_bq[df_bq['to_address'] == a]\n",
    "        if len(dff_bq):\n",
    "            chains = dff_bq['chain'].unique()\n",
    "            txns = dff_bq['count_txns'].sum()\n",
    "            a_dict[a]['networks'].extend(chains)\n",
    "            a_dict[a].update({'count_txns': txns})\n",
    "        else:\n",
    "            a_dict[a].update({'count_txns': 0}) \n",
    "        a_dict[a]['networks'] = list(set(a_dict[a]['networks']))"
   ]
  },
  {
   "cell_type": "code",
   "execution_count": 6,
   "id": "75126f9a",
   "metadata": {},
   "outputs": [],
   "source": [
    "import numpy as np\n",
    "\n",
    "def convert_numpy(obj):\n",
    "    if isinstance(obj, np.integer):\n",
    "        return int(obj)\n",
    "    elif isinstance(obj, np.floating):\n",
    "        return float(obj)\n",
    "    elif isinstance(obj, np.ndarray):\n",
    "        return obj.tolist()\n",
    "    elif isinstance(obj, (np.bool_)):\n",
    "        return bool(obj)\n",
    "    else:\n",
    "        return str(obj)\n",
    "\n",
    "with open(\"data/updated_grants_reviewed.json\", \"w\") as f:\n",
    "    json.dump(grant_data, f, indent=2, default=convert_numpy)"
   ]
  }
 ],
 "metadata": {
  "kernelspec": {
   "display_name": "Python 3 (ipykernel)",
   "language": "python",
   "name": "python3"
  },
  "language_info": {
   "codemirror_mode": {
    "name": "ipython",
    "version": 3
   },
   "file_extension": ".py",
   "mimetype": "text/x-python",
   "name": "python",
   "nbconvert_exporter": "python",
   "pygments_lexer": "ipython3",
   "version": "3.11.5"
  }
 },
 "nbformat": 4,
 "nbformat_minor": 5
}
