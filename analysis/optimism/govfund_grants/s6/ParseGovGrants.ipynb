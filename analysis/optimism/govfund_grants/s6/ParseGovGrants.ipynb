{
 "cells": [
  {
   "cell_type": "code",
   "execution_count": 1,
   "id": "e53e766b",
   "metadata": {},
   "outputs": [],
   "source": [
    "import datetime\n",
    "import json\n",
    "import pandas as pd\n",
    "import openpyxl"
   ]
  },
  {
   "cell_type": "code",
   "execution_count": 2,
   "id": "e026a553",
   "metadata": {},
   "outputs": [],
   "source": [
    "# https://docs.google.com/spreadsheets/d/1Ul8iMTsOFUKUmqz6MK0zpgt8Ki8tFtoWKGlwXj-Op34/edit?usp=sharing\n",
    "XLS_PATH = 'data/Optimism GovFund Grants_ Public Delivery Tracking.xlsx'\n",
    "WB = openpyxl.load_workbook(XLS_PATH)\n",
    "sheets = [x for x in WB.sheetnames if x != 'Status Key']"
   ]
  },
  {
   "cell_type": "code",
   "execution_count": 3,
   "id": "a514f024",
   "metadata": {},
   "outputs": [
    {
     "name": "stdout",
     "output_type": "stream",
     "text": [
      "No link for project: Majora Security Grant Application <Cell 'Grants Season 6'.B119>\n",
      "No link for project: Majora Security Grant Application <Cell 'Grants Season 6'.B120>\n"
     ]
    }
   ],
   "source": [
    "def convert_datetime(obj):\n",
    "    if isinstance(obj, datetime.datetime):\n",
    "        return obj.isoformat()\n",
    "    elif isinstance(obj, list):\n",
    "        return [convert_datetime(item) for item in obj]\n",
    "    elif isinstance(obj, dict):\n",
    "        return {key: convert_datetime(value) for key, value in obj.items()}\n",
    "    return obj\n",
    "\n",
    "def load_sheet(sheet_name):\n",
    "    \n",
    "    sheet = WB[sheet_name]\n",
    "    \n",
    "    for skiprows in range(0,2):\n",
    "        df = pd.read_excel(XLS_PATH, sheet_name=sheet_name, skiprows=skiprows, thousands=',')\n",
    "        if 'Status' in df.columns:\n",
    "            break\n",
    "            \n",
    "    for col in df.columns:\n",
    "        if pd.api.types.is_datetime64_any_dtype(df[col]):\n",
    "            print(col)\n",
    "            df[col] = df[col].astype(str)\n",
    "        \n",
    "    this_cycle = None\n",
    "    cols = [\n",
    "        'Status', 'Cycle #', 'Total Amount (OP)', 'Amount (OP)',\n",
    "        'Project Name', 'Proposal Link', 'L2 Address'\n",
    "    ]\n",
    "    data = []\n",
    "    for row_num, (_, row) in enumerate(df.iterrows()):\n",
    "\n",
    "        if isinstance(row['Cycle #'], str):\n",
    "            this_cycle = row['Cycle #']\n",
    "        \n",
    "        status = row.get('Status')\n",
    "        if not isinstance(status, str):\n",
    "            continue\n",
    "        if status in ('Not-passed', 'Rejected'):\n",
    "            continue\n",
    "\n",
    "\n",
    "        amount = row.get('Total Amount (OP)', row.get('Amount (OP)'))\n",
    "        amount_comment = None\n",
    "        try:\n",
    "            amount = pd.to_numeric(amount)\n",
    "        except:\n",
    "            amount_comment = amount\n",
    "            amount = None    \n",
    "            \n",
    "        project_name = row['Project Name']\n",
    "        proposal_link = row['Proposal Link']\n",
    "        if not isinstance(proposal_link, str):\n",
    "            cell = sheet.cell(skiprows+row_num+2, 2)\n",
    "            try:\n",
    "                proposal_link = cell.hyperlink.target\n",
    "            except:\n",
    "                print(\"No link for project:\", project_name, cell)\n",
    "                proposal_link = \"\"\n",
    "        wallet_address = row['L2 Address']\n",
    "        wallet_address = wallet_address.lower() if isinstance(wallet_address, str) else \"\"\n",
    "        other_fields = row[[x for x in row.keys() if x not in cols]].dropna().apply(convert_datetime).to_dict()\n",
    "        data.append({\n",
    "            'round': sheet_name,\n",
    "            'cycle': this_cycle,\n",
    "            'project_name': project_name,\n",
    "            'status': status,\n",
    "            'proposal_link': proposal_link,\n",
    "            'wallet_address': wallet_address,\n",
    "            'amount': amount,\n",
    "            'amount_comment': amount_comment,\n",
    "            'meta': other_fields\n",
    "        })\n",
    "\n",
    "    return data\n",
    "    \n",
    "json_data = []\n",
    "for s in sheets:\n",
    "    json_data.extend(load_sheet(s))"
   ]
  },
  {
   "cell_type": "code",
   "execution_count": 4,
   "id": "75a58629",
   "metadata": {},
   "outputs": [],
   "source": [
    "with open(\"data/govgrants.json\", \"w\") as f:\n",
    "    json.dump(json_data, f, indent=2)"
   ]
  }
 ],
 "metadata": {
  "kernelspec": {
   "display_name": "Python 3 (ipykernel)",
   "language": "python",
   "name": "python3"
  },
  "language_info": {
   "codemirror_mode": {
    "name": "ipython",
    "version": 3
   },
   "file_extension": ".py",
   "mimetype": "text/x-python",
   "name": "python",
   "nbconvert_exporter": "python",
   "pygments_lexer": "ipython3",
   "version": "3.11.7"
  }
 },
 "nbformat": 4,
 "nbformat_minor": 5
}
