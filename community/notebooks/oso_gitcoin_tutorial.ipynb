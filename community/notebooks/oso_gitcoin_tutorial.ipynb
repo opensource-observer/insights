{
 "cells": [
  {
   "cell_type": "markdown",
   "id": "1e609e9c-1fa9-4f2f-967b-ceb8e3a71df0",
   "metadata": {},
   "source": [
    "# Gitcoin Dataset Integration - Sample Queries and Visualizations"
   ]
  },
  {
   "cell_type": "code",
   "execution_count": 1,
   "id": "3710846f-c9ba-4463-8e25-58794f258839",
   "metadata": {
    "scrolled": true
   },
   "outputs": [
    {
     "name": "stderr",
     "output_type": "stream",
     "text": [
      "/Users/rohitmalekar/Library/Python/3.9/lib/python/site-packages/urllib3/__init__.py:34: NotOpenSSLWarning: urllib3 v2.0 only supports OpenSSL 1.1.1+, currently the 'ssl' module is compiled with 'LibreSSL 2.8.3'. See: https://github.com/urllib3/urllib3/issues/3020\n",
      "  warnings.warn(\n"
     ]
    }
   ],
   "source": [
    "from google.cloud import bigquery\n",
    "import os\n",
    "\n",
    "os.environ['GOOGLE_APPLICATION_CREDENTIALS'] = '/Users/rohitmalekar/llm/oso/fleet-bongo-424111-b3-f6d34ced0b53.json' # path to your service account key in your downloads folder\n",
    "client = bigquery.Client()\n"
   ]
  },
  {
   "cell_type": "markdown",
   "id": "1a8ad265-c24c-4690-8497-1a63a8b5c2c5",
   "metadata": {},
   "source": [
    "### Find a project in OSO"
   ]
  },
  {
   "cell_type": "code",
   "execution_count": 2,
   "id": "0142a48b-1974-4e25-a4bf-8556a4a0d927",
   "metadata": {},
   "outputs": [
    {
     "data": {
      "text/html": [
       "<div>\n",
       "<style scoped>\n",
       "    .dataframe tbody tr th:only-of-type {\n",
       "        vertical-align: middle;\n",
       "    }\n",
       "\n",
       "    .dataframe tbody tr th {\n",
       "        vertical-align: top;\n",
       "    }\n",
       "\n",
       "    .dataframe thead th {\n",
       "        text-align: right;\n",
       "    }\n",
       "</style>\n",
       "<table border=\"1\" class=\"dataframe\">\n",
       "  <thead>\n",
       "    <tr style=\"text-align: right;\">\n",
       "      <th></th>\n",
       "      <th>project_id</th>\n",
       "      <th>project_name</th>\n",
       "      <th>display_name</th>\n",
       "    </tr>\n",
       "  </thead>\n",
       "  <tbody>\n",
       "    <tr>\n",
       "      <th>0</th>\n",
       "      <td>7Ho9rkH5WBCgukx15OrREqsIuD5C5Xts3dPBmsunYK8=</td>\n",
       "      <td>facebook-oss</td>\n",
       "      <td>Facebook Open Source</td>\n",
       "    </tr>\n",
       "    <tr>\n",
       "      <th>1</th>\n",
       "      <td>bYQNpX64xoy8XYqxSAW5dksVZTB4I8o_DkfnIy-JGXg=</td>\n",
       "      <td>cryptoeconomics-study</td>\n",
       "      <td>Cryptoeconomics.study - Free, Open-Source Bloc...</td>\n",
       "    </tr>\n",
       "    <tr>\n",
       "      <th>2</th>\n",
       "      <td>CiaydgtSaZrUohWPNm3AlWGmDc0LCLsmJf_IV-skoHI=</td>\n",
       "      <td>open-source-zuzalu</td>\n",
       "      <td>Open-Source-Zuzalu</td>\n",
       "    </tr>\n",
       "    <tr>\n",
       "      <th>3</th>\n",
       "      <td>croSE-4oR_d9mJCH7-yegUS2iSFNohzUpOsb2s6yToc=</td>\n",
       "      <td>fusion-drum-n-bass</td>\n",
       "      <td>Fusion - Open Source Web3 Icon Set</td>\n",
       "    </tr>\n",
       "    <tr>\n",
       "      <th>4</th>\n",
       "      <td>yveQe0Umiy2xGiCFdk0P38TJYZJX-YcPjCa6II1fVMM=</td>\n",
       "      <td>stackexchange</td>\n",
       "      <td>Stack Overflow Open Source</td>\n",
       "    </tr>\n",
       "    <tr>\n",
       "      <th>5</th>\n",
       "      <td>Erx9J64anc8oSeN-wDKm0sojJf8ONrFVYbQ7GFnqSyc=</td>\n",
       "      <td>opensource-observer</td>\n",
       "      <td>Open Source Observer</td>\n",
       "    </tr>\n",
       "  </tbody>\n",
       "</table>\n",
       "</div>"
      ],
      "text/plain": [
       "                                     project_id           project_name  \\\n",
       "0  7Ho9rkH5WBCgukx15OrREqsIuD5C5Xts3dPBmsunYK8=           facebook-oss   \n",
       "1  bYQNpX64xoy8XYqxSAW5dksVZTB4I8o_DkfnIy-JGXg=  cryptoeconomics-study   \n",
       "2  CiaydgtSaZrUohWPNm3AlWGmDc0LCLsmJf_IV-skoHI=     open-source-zuzalu   \n",
       "3  croSE-4oR_d9mJCH7-yegUS2iSFNohzUpOsb2s6yToc=     fusion-drum-n-bass   \n",
       "4  yveQe0Umiy2xGiCFdk0P38TJYZJX-YcPjCa6II1fVMM=          stackexchange   \n",
       "5  Erx9J64anc8oSeN-wDKm0sojJf8ONrFVYbQ7GFnqSyc=    opensource-observer   \n",
       "\n",
       "                                        display_name  \n",
       "0                               Facebook Open Source  \n",
       "1  Cryptoeconomics.study - Free, Open-Source Bloc...  \n",
       "2                                 Open-Source-Zuzalu  \n",
       "3                 Fusion - Open Source Web3 Icon Set  \n",
       "4                         Stack Overflow Open Source  \n",
       "5                               Open Source Observer  "
      ]
     },
     "execution_count": 2,
     "metadata": {},
     "output_type": "execute_result"
    }
   ],
   "source": [
    "query = \"\"\"\n",
    "    select project_id, project_name, display_name\n",
    "    from `oso_production.projects_v1`\n",
    "    where lower(display_name) like lower('%open%source%')\n",
    "\"\"\"\n",
    "results = client.query(query)\n",
    "results.to_dataframe()"
   ]
  },
  {
   "cell_type": "markdown",
   "id": "53bfc77c-2457-48a3-869c-bf6e93b9e7df",
   "metadata": {},
   "source": [
    "### Query latest coding metrics for a project"
   ]
  },
  {
   "cell_type": "code",
   "execution_count": 3,
   "id": "c995920f-8ab2-4da0-b5dc-cad41ee64182",
   "metadata": {},
   "outputs": [
    {
     "data": {
      "text/html": [
       "<div>\n",
       "<style scoped>\n",
       "    .dataframe tbody tr th:only-of-type {\n",
       "        vertical-align: middle;\n",
       "    }\n",
       "\n",
       "    .dataframe tbody tr th {\n",
       "        vertical-align: top;\n",
       "    }\n",
       "\n",
       "    .dataframe thead th {\n",
       "        text-align: right;\n",
       "    }\n",
       "</style>\n",
       "<table border=\"1\" class=\"dataframe\">\n",
       "  <thead>\n",
       "    <tr style=\"text-align: right;\">\n",
       "      <th></th>\n",
       "      <th>project_name</th>\n",
       "      <th>display_name</th>\n",
       "      <th>star_count</th>\n",
       "      <th>fork_count</th>\n",
       "      <th>commit_count_6_months</th>\n",
       "      <th>contributor_count_6_months</th>\n",
       "    </tr>\n",
       "  </thead>\n",
       "  <tbody>\n",
       "    <tr>\n",
       "      <th>0</th>\n",
       "      <td>opensource-observer</td>\n",
       "      <td>Open Source Observer</td>\n",
       "      <td>203</td>\n",
       "      <td>184</td>\n",
       "      <td>1067.0</td>\n",
       "      <td>70.0</td>\n",
       "    </tr>\n",
       "  </tbody>\n",
       "</table>\n",
       "</div>"
      ],
      "text/plain": [
       "          project_name          display_name  star_count  fork_count  \\\n",
       "0  opensource-observer  Open Source Observer         203         184   \n",
       "\n",
       "   commit_count_6_months  contributor_count_6_months  \n",
       "0                 1067.0                        70.0  "
      ]
     },
     "execution_count": 3,
     "metadata": {},
     "output_type": "execute_result"
    }
   ],
   "source": [
    "query = \"\"\"\n",
    "    select\n",
    "      project_name,\n",
    "      display_name,\n",
    "      star_count,\n",
    "      fork_count,\n",
    "      commit_count_6_months,\n",
    "      contributor_count_6_months\n",
    "    from `oso_production.code_metrics_by_project_v1`\n",
    "    where project_name = 'opensource-observer'\n",
    "\"\"\"\n",
    "results = client.query(query)\n",
    "results.to_dataframe()"
   ]
  },
  {
   "cell_type": "markdown",
   "id": "b6c6931c-70c9-489f-a649-4f42b7108623",
   "metadata": {},
   "source": [
    "### See how much funding a project has over rounds "
   ]
  },
  {
   "cell_type": "code",
   "execution_count": 6,
   "id": "7fcbccf2-1a70-412e-99e9-9b4fc8d3f99d",
   "metadata": {},
   "outputs": [
    {
     "data": {
      "text/html": [
       "<div>\n",
       "<style scoped>\n",
       "    .dataframe tbody tr th:only-of-type {\n",
       "        vertical-align: middle;\n",
       "    }\n",
       "\n",
       "    .dataframe tbody tr th {\n",
       "        vertical-align: top;\n",
       "    }\n",
       "\n",
       "    .dataframe thead th {\n",
       "        text-align: right;\n",
       "    }\n",
       "</style>\n",
       "<table border=\"1\" class=\"dataframe\">\n",
       "  <thead>\n",
       "    <tr style=\"text-align: right;\">\n",
       "      <th></th>\n",
       "      <th>grant_pool_name</th>\n",
       "      <th>grant</th>\n",
       "    </tr>\n",
       "  </thead>\n",
       "  <tbody>\n",
       "    <tr>\n",
       "      <th>0</th>\n",
       "      <td>GG-22 - 609</td>\n",
       "      <td>7639.237111</td>\n",
       "    </tr>\n",
       "    <tr>\n",
       "      <th>1</th>\n",
       "      <td>PartnerRound - 0x5aa255d5cae9b6ce0f2d9aee209cb...</td>\n",
       "      <td>4333.438449</td>\n",
       "    </tr>\n",
       "    <tr>\n",
       "      <th>2</th>\n",
       "      <td>GG-22 - 636</td>\n",
       "      <td>2599.638671</td>\n",
       "    </tr>\n",
       "    <tr>\n",
       "      <th>3</th>\n",
       "      <td>GG-20 - 27</td>\n",
       "      <td>9557.273954</td>\n",
       "    </tr>\n",
       "    <tr>\n",
       "      <th>4</th>\n",
       "      <td>GG-21 - 385</td>\n",
       "      <td>6022.001839</td>\n",
       "    </tr>\n",
       "    <tr>\n",
       "      <th>5</th>\n",
       "      <td>GG-19 - 0xd4cc0dd193c7dc1d665ae244ce12d7fab337...</td>\n",
       "      <td>1427.369473</td>\n",
       "    </tr>\n",
       "  </tbody>\n",
       "</table>\n",
       "</div>"
      ],
      "text/plain": [
       "                                     grant_pool_name        grant\n",
       "0                                        GG-22 - 609  7639.237111\n",
       "1  PartnerRound - 0x5aa255d5cae9b6ce0f2d9aee209cb...  4333.438449\n",
       "2                                        GG-22 - 636  2599.638671\n",
       "3                                         GG-20 - 27  9557.273954\n",
       "4                                        GG-21 - 385  6022.001839\n",
       "5  GG-19 - 0xd4cc0dd193c7dc1d665ae244ce12d7fab337...  1427.369473"
      ]
     },
     "execution_count": 6,
     "metadata": {},
     "output_type": "execute_result"
    }
   ],
   "source": [
    "query = \"\"\"\n",
    "    SELECT\n",
    "      grant_pool_name,\n",
    "      sum(amount) grant\n",
    "    FROM `oso_production.oss_funding_v0`\n",
    "    WHERE to_project_name = 'opensource-observer'\n",
    "    and from_project_name = 'gitcoin'\n",
    "    group by grant_pool_name\n",
    "\"\"\"\n",
    "results = client.query(query)\n",
    "results.to_dataframe()"
   ]
  },
  {
   "cell_type": "markdown",
   "id": "fc74cff1-2d7d-4832-9a3e-c35183dc7400",
   "metadata": {},
   "source": [
    "### View latest coding metrics for top funded projects in a round"
   ]
  },
  {
   "cell_type": "code",
   "execution_count": 20,
   "id": "6b51299d-2197-4132-9d7a-ad0ddcf4c0c1",
   "metadata": {},
   "outputs": [
    {
     "data": {
      "text/html": [
       "<div>\n",
       "<style scoped>\n",
       "    .dataframe tbody tr th:only-of-type {\n",
       "        vertical-align: middle;\n",
       "    }\n",
       "\n",
       "    .dataframe tbody tr th {\n",
       "        vertical-align: top;\n",
       "    }\n",
       "\n",
       "    .dataframe thead th {\n",
       "        text-align: right;\n",
       "    }\n",
       "</style>\n",
       "<table border=\"1\" class=\"dataframe\">\n",
       "  <thead>\n",
       "    <tr style=\"text-align: right;\">\n",
       "      <th></th>\n",
       "      <th>to_project_name</th>\n",
       "      <th>total_funding</th>\n",
       "      <th>funding_sources</th>\n",
       "      <th>active_developer_count_6_months</th>\n",
       "      <th>commit_count_6_months</th>\n",
       "      <th>opened_issue_count_6_months</th>\n",
       "      <th>star_count</th>\n",
       "      <th>fork_count</th>\n",
       "    </tr>\n",
       "  </thead>\n",
       "  <tbody>\n",
       "    <tr>\n",
       "      <th>0</th>\n",
       "      <td>defi-llama</td>\n",
       "      <td>42513.883202</td>\n",
       "      <td>1</td>\n",
       "      <td>13.0</td>\n",
       "      <td>10349.0</td>\n",
       "      <td>142.0</td>\n",
       "      <td>4587</td>\n",
       "      <td>13238</td>\n",
       "    </tr>\n",
       "    <tr>\n",
       "      <th>1</th>\n",
       "      <td>blockscout</td>\n",
       "      <td>35425.687631</td>\n",
       "      <td>1</td>\n",
       "      <td>25.0</td>\n",
       "      <td>1618.0</td>\n",
       "      <td>810.0</td>\n",
       "      <td>4288</td>\n",
       "      <td>3424</td>\n",
       "    </tr>\n",
       "    <tr>\n",
       "      <th>2</th>\n",
       "      <td>wevm</td>\n",
       "      <td>34772.560580</td>\n",
       "      <td>1</td>\n",
       "      <td>6.0</td>\n",
       "      <td>1281.0</td>\n",
       "      <td>254.0</td>\n",
       "      <td>12006</td>\n",
       "      <td>2616</td>\n",
       "    </tr>\n",
       "    <tr>\n",
       "      <th>3</th>\n",
       "      <td>ethers-io</td>\n",
       "      <td>20697.547356</td>\n",
       "      <td>1</td>\n",
       "      <td>1.0</td>\n",
       "      <td>52.0</td>\n",
       "      <td>73.0</td>\n",
       "      <td>8786</td>\n",
       "      <td>2223</td>\n",
       "    </tr>\n",
       "    <tr>\n",
       "      <th>4</th>\n",
       "      <td>growthepie</td>\n",
       "      <td>18218.712566</td>\n",
       "      <td>1</td>\n",
       "      <td>7.0</td>\n",
       "      <td>939.0</td>\n",
       "      <td>0.0</td>\n",
       "      <td>41</td>\n",
       "      <td>23</td>\n",
       "    </tr>\n",
       "    <tr>\n",
       "      <th>5</th>\n",
       "      <td>beacon-chain</td>\n",
       "      <td>12951.509380</td>\n",
       "      <td>1</td>\n",
       "      <td>4.0</td>\n",
       "      <td>68.0</td>\n",
       "      <td>12.0</td>\n",
       "      <td>1100</td>\n",
       "      <td>515</td>\n",
       "    </tr>\n",
       "    <tr>\n",
       "      <th>6</th>\n",
       "      <td>buidlguidl</td>\n",
       "      <td>10277.931375</td>\n",
       "      <td>1</td>\n",
       "      <td>16.0</td>\n",
       "      <td>1581.0</td>\n",
       "      <td>218.0</td>\n",
       "      <td>13132</td>\n",
       "      <td>9029</td>\n",
       "    </tr>\n",
       "    <tr>\n",
       "      <th>7</th>\n",
       "      <td>zkemail</td>\n",
       "      <td>9759.880243</td>\n",
       "      <td>1</td>\n",
       "      <td>18.0</td>\n",
       "      <td>1879.0</td>\n",
       "      <td>101.0</td>\n",
       "      <td>1092</td>\n",
       "      <td>277</td>\n",
       "    </tr>\n",
       "    <tr>\n",
       "      <th>8</th>\n",
       "      <td>ethereum-attestation-service</td>\n",
       "      <td>7740.298474</td>\n",
       "      <td>1</td>\n",
       "      <td>3.0</td>\n",
       "      <td>96.0</td>\n",
       "      <td>7.0</td>\n",
       "      <td>472</td>\n",
       "      <td>216</td>\n",
       "    </tr>\n",
       "    <tr>\n",
       "      <th>9</th>\n",
       "      <td>opensource-observer</td>\n",
       "      <td>7639.237111</td>\n",
       "      <td>1</td>\n",
       "      <td>45.0</td>\n",
       "      <td>1067.0</td>\n",
       "      <td>510.0</td>\n",
       "      <td>203</td>\n",
       "      <td>184</td>\n",
       "    </tr>\n",
       "    <tr>\n",
       "      <th>10</th>\n",
       "      <td>solady-vectorized</td>\n",
       "      <td>7577.287625</td>\n",
       "      <td>1</td>\n",
       "      <td>2.0</td>\n",
       "      <td>274.0</td>\n",
       "      <td>29.0</td>\n",
       "      <td>2686</td>\n",
       "      <td>360</td>\n",
       "    </tr>\n",
       "    <tr>\n",
       "      <th>11</th>\n",
       "      <td>commonsbuild</td>\n",
       "      <td>6905.477030</td>\n",
       "      <td>1</td>\n",
       "      <td>1.0</td>\n",
       "      <td>2.0</td>\n",
       "      <td>0.0</td>\n",
       "      <td>94</td>\n",
       "      <td>80</td>\n",
       "    </tr>\n",
       "    <tr>\n",
       "      <th>12</th>\n",
       "      <td>synpress-synthexio</td>\n",
       "      <td>6841.808966</td>\n",
       "      <td>1</td>\n",
       "      <td>1.0</td>\n",
       "      <td>34.0</td>\n",
       "      <td>7.0</td>\n",
       "      <td>618</td>\n",
       "      <td>200</td>\n",
       "    </tr>\n",
       "    <tr>\n",
       "      <th>13</th>\n",
       "      <td>otterscan</td>\n",
       "      <td>6301.131982</td>\n",
       "      <td>1</td>\n",
       "      <td>2.0</td>\n",
       "      <td>172.0</td>\n",
       "      <td>35.0</td>\n",
       "      <td>1426</td>\n",
       "      <td>210</td>\n",
       "    </tr>\n",
       "    <tr>\n",
       "      <th>14</th>\n",
       "      <td>lighthouse-web3</td>\n",
       "      <td>5727.583180</td>\n",
       "      <td>1</td>\n",
       "      <td>5.0</td>\n",
       "      <td>82.0</td>\n",
       "      <td>2.0</td>\n",
       "      <td>71</td>\n",
       "      <td>42</td>\n",
       "    </tr>\n",
       "    <tr>\n",
       "      <th>15</th>\n",
       "      <td>solidity-ethereum</td>\n",
       "      <td>4692.439880</td>\n",
       "      <td>1</td>\n",
       "      <td>12.0</td>\n",
       "      <td>660.0</td>\n",
       "      <td>153.0</td>\n",
       "      <td>24951</td>\n",
       "      <td>6555</td>\n",
       "    </tr>\n",
       "    <tr>\n",
       "      <th>16</th>\n",
       "      <td>sourcify-ethereum</td>\n",
       "      <td>4692.439880</td>\n",
       "      <td>1</td>\n",
       "      <td>6.0</td>\n",
       "      <td>683.0</td>\n",
       "      <td>129.0</td>\n",
       "      <td>920</td>\n",
       "      <td>467</td>\n",
       "    </tr>\n",
       "    <tr>\n",
       "      <th>17</th>\n",
       "      <td>ethereum-cat-herders</td>\n",
       "      <td>4692.439880</td>\n",
       "      <td>1</td>\n",
       "      <td>5.0</td>\n",
       "      <td>251.0</td>\n",
       "      <td>39.0</td>\n",
       "      <td>13093</td>\n",
       "      <td>5406</td>\n",
       "    </tr>\n",
       "    <tr>\n",
       "      <th>18</th>\n",
       "      <td>clrfund</td>\n",
       "      <td>4692.439880</td>\n",
       "      <td>1</td>\n",
       "      <td>1.0</td>\n",
       "      <td>20.0</td>\n",
       "      <td>0.0</td>\n",
       "      <td>253</td>\n",
       "      <td>120</td>\n",
       "    </tr>\n",
       "  </tbody>\n",
       "</table>\n",
       "</div>"
      ],
      "text/plain": [
       "                 to_project_name  total_funding  funding_sources  \\\n",
       "0                     defi-llama   42513.883202                1   \n",
       "1                     blockscout   35425.687631                1   \n",
       "2                           wevm   34772.560580                1   \n",
       "3                      ethers-io   20697.547356                1   \n",
       "4                     growthepie   18218.712566                1   \n",
       "5                   beacon-chain   12951.509380                1   \n",
       "6                     buidlguidl   10277.931375                1   \n",
       "7                        zkemail    9759.880243                1   \n",
       "8   ethereum-attestation-service    7740.298474                1   \n",
       "9            opensource-observer    7639.237111                1   \n",
       "10             solady-vectorized    7577.287625                1   \n",
       "11                  commonsbuild    6905.477030                1   \n",
       "12            synpress-synthexio    6841.808966                1   \n",
       "13                     otterscan    6301.131982                1   \n",
       "14               lighthouse-web3    5727.583180                1   \n",
       "15             solidity-ethereum    4692.439880                1   \n",
       "16             sourcify-ethereum    4692.439880                1   \n",
       "17          ethereum-cat-herders    4692.439880                1   \n",
       "18                       clrfund    4692.439880                1   \n",
       "\n",
       "    active_developer_count_6_months  commit_count_6_months  \\\n",
       "0                              13.0                10349.0   \n",
       "1                              25.0                 1618.0   \n",
       "2                               6.0                 1281.0   \n",
       "3                               1.0                   52.0   \n",
       "4                               7.0                  939.0   \n",
       "5                               4.0                   68.0   \n",
       "6                              16.0                 1581.0   \n",
       "7                              18.0                 1879.0   \n",
       "8                               3.0                   96.0   \n",
       "9                              45.0                 1067.0   \n",
       "10                              2.0                  274.0   \n",
       "11                              1.0                    2.0   \n",
       "12                              1.0                   34.0   \n",
       "13                              2.0                  172.0   \n",
       "14                              5.0                   82.0   \n",
       "15                             12.0                  660.0   \n",
       "16                              6.0                  683.0   \n",
       "17                              5.0                  251.0   \n",
       "18                              1.0                   20.0   \n",
       "\n",
       "    opened_issue_count_6_months  star_count  fork_count  \n",
       "0                         142.0        4587       13238  \n",
       "1                         810.0        4288        3424  \n",
       "2                         254.0       12006        2616  \n",
       "3                          73.0        8786        2223  \n",
       "4                           0.0          41          23  \n",
       "5                          12.0        1100         515  \n",
       "6                         218.0       13132        9029  \n",
       "7                         101.0        1092         277  \n",
       "8                           7.0         472         216  \n",
       "9                         510.0         203         184  \n",
       "10                         29.0        2686         360  \n",
       "11                          0.0          94          80  \n",
       "12                          7.0         618         200  \n",
       "13                         35.0        1426         210  \n",
       "14                          2.0          71          42  \n",
       "15                        153.0       24951        6555  \n",
       "16                        129.0         920         467  \n",
       "17                         39.0       13093        5406  \n",
       "18                          0.0         253         120  "
      ]
     },
     "execution_count": 20,
     "metadata": {},
     "output_type": "execute_result"
    }
   ],
   "source": [
    "query = \"\"\"\n",
    "    WITH project_funding AS (\n",
    "      SELECT\n",
    "        to_project_name,\n",
    "        SUM(amount) AS total_funding,\n",
    "        COUNT(DISTINCT event_source) AS funding_sources\n",
    "      FROM `oso_production.oss_funding_v0`\n",
    "      WHERE grant_pool_name = 'GG-22 - 609'\n",
    "      GROUP BY to_project_name\n",
    "      ORDER BY total_funding DESC\n",
    "      LIMIT 20\n",
    "    )\n",
    "    SELECT\n",
    "      f.to_project_name,\n",
    "      f.total_funding,\n",
    "      f.funding_sources,\n",
    "      m.active_developer_count_6_months,\n",
    "      m.commit_count_6_months,\n",
    "      m.opened_issue_count_6_months,\n",
    "      m.star_count,\n",
    "      m.fork_count\n",
    "    FROM project_funding f\n",
    "    JOIN `oso_production.code_metrics_by_project_v1` m\n",
    "      ON f.to_project_name = m.project_name\n",
    "    ORDER BY f.total_funding DESC;\n",
    "\"\"\"\n",
    "results = client.query(query)\n",
    "results.to_dataframe()"
   ]
  },
  {
   "cell_type": "markdown",
   "id": "70601b2b-1672-4f87-af66-a0165501a81e",
   "metadata": {},
   "source": [
    "### Log-Scaled Commits Per Developer vs Funding Amount"
   ]
  },
  {
   "cell_type": "code",
   "execution_count": 26,
   "id": "c5725024-b4e9-4806-bfe8-8451fc4bcd7e",
   "metadata": {},
   "outputs": [
    {
     "data": {
      "application/vnd.plotly.v1+json": {
       "config": {
        "plotlyServerURL": "https://plot.ly"
       },
       "data": [
        {
         "customdata": [
          [
           "defi-llama"
          ],
          [
           "blockscout"
          ],
          [
           "wevm"
          ],
          [
           "ethers-io"
          ],
          [
           "growthepie"
          ],
          [
           "beacon-chain"
          ],
          [
           "buidlguidl"
          ],
          [
           "zkemail"
          ],
          [
           "ethereum-attestation-service"
          ],
          [
           "opensource-observer"
          ],
          [
           "solady-vectorized"
          ],
          [
           "commonsbuild"
          ],
          [
           "synpress-synthexio"
          ],
          [
           "otterscan"
          ],
          [
           "lighthouse-web3"
          ],
          [
           "solidity-ethereum"
          ],
          [
           "sourcify-ethereum"
          ],
          [
           "ethereum-cat-herders"
          ],
          [
           "clrfund"
          ]
         ],
         "hovertemplate": "Total Funding ($)=%{x}<br>Commits per Active Developer=%{y}<br>Active Developers=%{marker.size}<br>to_project_name=%{customdata[0]}<extra></extra>",
         "legendgroup": "",
         "marker": {
          "color": "#636efa",
          "size": [
           13,
           25,
           6,
           1,
           7,
           4,
           16,
           18,
           3,
           45,
           2,
           1,
           1,
           2,
           5,
           12,
           6,
           5,
           1
          ],
          "sizemode": "area",
          "sizeref": 0.018,
          "symbol": "circle"
         },
         "mode": "markers",
         "name": "",
         "orientation": "v",
         "showlegend": false,
         "type": "scatter",
         "x": [
          42513.88320171035,
          35425.68763087022,
          34772.56057990283,
          20697.547356195166,
          18218.712565759968,
          12951.509379612966,
          10277.93137534129,
          9759.880243019303,
          7740.298473856681,
          7639.237111016736,
          7577.287624798147,
          6905.4770304577005,
          6841.808965744147,
          6301.131981784013,
          5727.583180182024,
          4692.439879716369,
          4692.439879716369,
          4692.439879716369,
          4692.439879716369
         ],
         "xaxis": "x",
         "y": [
          796.0769230769231,
          64.72,
          213.5,
          52,
          134.14285714285714,
          17,
          98.8125,
          104.38888888888889,
          32,
          23.711111111111112,
          137,
          2,
          34,
          86,
          16.4,
          55,
          113.83333333333333,
          50.2,
          20
         ],
         "yaxis": "y"
        }
       ],
       "layout": {
        "height": 600,
        "legend": {
         "itemsizing": "constant",
         "tracegroupgap": 0
        },
        "template": {
         "data": {
          "bar": [
           {
            "error_x": {
             "color": "#2a3f5f"
            },
            "error_y": {
             "color": "#2a3f5f"
            },
            "marker": {
             "line": {
              "color": "#E5ECF6",
              "width": 0.5
             },
             "pattern": {
              "fillmode": "overlay",
              "size": 10,
              "solidity": 0.2
             }
            },
            "type": "bar"
           }
          ],
          "barpolar": [
           {
            "marker": {
             "line": {
              "color": "#E5ECF6",
              "width": 0.5
             },
             "pattern": {
              "fillmode": "overlay",
              "size": 10,
              "solidity": 0.2
             }
            },
            "type": "barpolar"
           }
          ],
          "carpet": [
           {
            "aaxis": {
             "endlinecolor": "#2a3f5f",
             "gridcolor": "white",
             "linecolor": "white",
             "minorgridcolor": "white",
             "startlinecolor": "#2a3f5f"
            },
            "baxis": {
             "endlinecolor": "#2a3f5f",
             "gridcolor": "white",
             "linecolor": "white",
             "minorgridcolor": "white",
             "startlinecolor": "#2a3f5f"
            },
            "type": "carpet"
           }
          ],
          "choropleth": [
           {
            "colorbar": {
             "outlinewidth": 0,
             "ticks": ""
            },
            "type": "choropleth"
           }
          ],
          "contour": [
           {
            "colorbar": {
             "outlinewidth": 0,
             "ticks": ""
            },
            "colorscale": [
             [
              0,
              "#0d0887"
             ],
             [
              0.1111111111111111,
              "#46039f"
             ],
             [
              0.2222222222222222,
              "#7201a8"
             ],
             [
              0.3333333333333333,
              "#9c179e"
             ],
             [
              0.4444444444444444,
              "#bd3786"
             ],
             [
              0.5555555555555556,
              "#d8576b"
             ],
             [
              0.6666666666666666,
              "#ed7953"
             ],
             [
              0.7777777777777778,
              "#fb9f3a"
             ],
             [
              0.8888888888888888,
              "#fdca26"
             ],
             [
              1,
              "#f0f921"
             ]
            ],
            "type": "contour"
           }
          ],
          "contourcarpet": [
           {
            "colorbar": {
             "outlinewidth": 0,
             "ticks": ""
            },
            "type": "contourcarpet"
           }
          ],
          "heatmap": [
           {
            "colorbar": {
             "outlinewidth": 0,
             "ticks": ""
            },
            "colorscale": [
             [
              0,
              "#0d0887"
             ],
             [
              0.1111111111111111,
              "#46039f"
             ],
             [
              0.2222222222222222,
              "#7201a8"
             ],
             [
              0.3333333333333333,
              "#9c179e"
             ],
             [
              0.4444444444444444,
              "#bd3786"
             ],
             [
              0.5555555555555556,
              "#d8576b"
             ],
             [
              0.6666666666666666,
              "#ed7953"
             ],
             [
              0.7777777777777778,
              "#fb9f3a"
             ],
             [
              0.8888888888888888,
              "#fdca26"
             ],
             [
              1,
              "#f0f921"
             ]
            ],
            "type": "heatmap"
           }
          ],
          "heatmapgl": [
           {
            "colorbar": {
             "outlinewidth": 0,
             "ticks": ""
            },
            "colorscale": [
             [
              0,
              "#0d0887"
             ],
             [
              0.1111111111111111,
              "#46039f"
             ],
             [
              0.2222222222222222,
              "#7201a8"
             ],
             [
              0.3333333333333333,
              "#9c179e"
             ],
             [
              0.4444444444444444,
              "#bd3786"
             ],
             [
              0.5555555555555556,
              "#d8576b"
             ],
             [
              0.6666666666666666,
              "#ed7953"
             ],
             [
              0.7777777777777778,
              "#fb9f3a"
             ],
             [
              0.8888888888888888,
              "#fdca26"
             ],
             [
              1,
              "#f0f921"
             ]
            ],
            "type": "heatmapgl"
           }
          ],
          "histogram": [
           {
            "marker": {
             "pattern": {
              "fillmode": "overlay",
              "size": 10,
              "solidity": 0.2
             }
            },
            "type": "histogram"
           }
          ],
          "histogram2d": [
           {
            "colorbar": {
             "outlinewidth": 0,
             "ticks": ""
            },
            "colorscale": [
             [
              0,
              "#0d0887"
             ],
             [
              0.1111111111111111,
              "#46039f"
             ],
             [
              0.2222222222222222,
              "#7201a8"
             ],
             [
              0.3333333333333333,
              "#9c179e"
             ],
             [
              0.4444444444444444,
              "#bd3786"
             ],
             [
              0.5555555555555556,
              "#d8576b"
             ],
             [
              0.6666666666666666,
              "#ed7953"
             ],
             [
              0.7777777777777778,
              "#fb9f3a"
             ],
             [
              0.8888888888888888,
              "#fdca26"
             ],
             [
              1,
              "#f0f921"
             ]
            ],
            "type": "histogram2d"
           }
          ],
          "histogram2dcontour": [
           {
            "colorbar": {
             "outlinewidth": 0,
             "ticks": ""
            },
            "colorscale": [
             [
              0,
              "#0d0887"
             ],
             [
              0.1111111111111111,
              "#46039f"
             ],
             [
              0.2222222222222222,
              "#7201a8"
             ],
             [
              0.3333333333333333,
              "#9c179e"
             ],
             [
              0.4444444444444444,
              "#bd3786"
             ],
             [
              0.5555555555555556,
              "#d8576b"
             ],
             [
              0.6666666666666666,
              "#ed7953"
             ],
             [
              0.7777777777777778,
              "#fb9f3a"
             ],
             [
              0.8888888888888888,
              "#fdca26"
             ],
             [
              1,
              "#f0f921"
             ]
            ],
            "type": "histogram2dcontour"
           }
          ],
          "mesh3d": [
           {
            "colorbar": {
             "outlinewidth": 0,
             "ticks": ""
            },
            "type": "mesh3d"
           }
          ],
          "parcoords": [
           {
            "line": {
             "colorbar": {
              "outlinewidth": 0,
              "ticks": ""
             }
            },
            "type": "parcoords"
           }
          ],
          "pie": [
           {
            "automargin": true,
            "type": "pie"
           }
          ],
          "scatter": [
           {
            "fillpattern": {
             "fillmode": "overlay",
             "size": 10,
             "solidity": 0.2
            },
            "type": "scatter"
           }
          ],
          "scatter3d": [
           {
            "line": {
             "colorbar": {
              "outlinewidth": 0,
              "ticks": ""
             }
            },
            "marker": {
             "colorbar": {
              "outlinewidth": 0,
              "ticks": ""
             }
            },
            "type": "scatter3d"
           }
          ],
          "scattercarpet": [
           {
            "marker": {
             "colorbar": {
              "outlinewidth": 0,
              "ticks": ""
             }
            },
            "type": "scattercarpet"
           }
          ],
          "scattergeo": [
           {
            "marker": {
             "colorbar": {
              "outlinewidth": 0,
              "ticks": ""
             }
            },
            "type": "scattergeo"
           }
          ],
          "scattergl": [
           {
            "marker": {
             "colorbar": {
              "outlinewidth": 0,
              "ticks": ""
             }
            },
            "type": "scattergl"
           }
          ],
          "scattermapbox": [
           {
            "marker": {
             "colorbar": {
              "outlinewidth": 0,
              "ticks": ""
             }
            },
            "type": "scattermapbox"
           }
          ],
          "scatterpolar": [
           {
            "marker": {
             "colorbar": {
              "outlinewidth": 0,
              "ticks": ""
             }
            },
            "type": "scatterpolar"
           }
          ],
          "scatterpolargl": [
           {
            "marker": {
             "colorbar": {
              "outlinewidth": 0,
              "ticks": ""
             }
            },
            "type": "scatterpolargl"
           }
          ],
          "scatterternary": [
           {
            "marker": {
             "colorbar": {
              "outlinewidth": 0,
              "ticks": ""
             }
            },
            "type": "scatterternary"
           }
          ],
          "surface": [
           {
            "colorbar": {
             "outlinewidth": 0,
             "ticks": ""
            },
            "colorscale": [
             [
              0,
              "#0d0887"
             ],
             [
              0.1111111111111111,
              "#46039f"
             ],
             [
              0.2222222222222222,
              "#7201a8"
             ],
             [
              0.3333333333333333,
              "#9c179e"
             ],
             [
              0.4444444444444444,
              "#bd3786"
             ],
             [
              0.5555555555555556,
              "#d8576b"
             ],
             [
              0.6666666666666666,
              "#ed7953"
             ],
             [
              0.7777777777777778,
              "#fb9f3a"
             ],
             [
              0.8888888888888888,
              "#fdca26"
             ],
             [
              1,
              "#f0f921"
             ]
            ],
            "type": "surface"
           }
          ],
          "table": [
           {
            "cells": {
             "fill": {
              "color": "#EBF0F8"
             },
             "line": {
              "color": "white"
             }
            },
            "header": {
             "fill": {
              "color": "#C8D4E3"
             },
             "line": {
              "color": "white"
             }
            },
            "type": "table"
           }
          ]
         },
         "layout": {
          "annotationdefaults": {
           "arrowcolor": "#2a3f5f",
           "arrowhead": 0,
           "arrowwidth": 1
          },
          "autotypenumbers": "strict",
          "coloraxis": {
           "colorbar": {
            "outlinewidth": 0,
            "ticks": ""
           }
          },
          "colorscale": {
           "diverging": [
            [
             0,
             "#8e0152"
            ],
            [
             0.1,
             "#c51b7d"
            ],
            [
             0.2,
             "#de77ae"
            ],
            [
             0.3,
             "#f1b6da"
            ],
            [
             0.4,
             "#fde0ef"
            ],
            [
             0.5,
             "#f7f7f7"
            ],
            [
             0.6,
             "#e6f5d0"
            ],
            [
             0.7,
             "#b8e186"
            ],
            [
             0.8,
             "#7fbc41"
            ],
            [
             0.9,
             "#4d9221"
            ],
            [
             1,
             "#276419"
            ]
           ],
           "sequential": [
            [
             0,
             "#0d0887"
            ],
            [
             0.1111111111111111,
             "#46039f"
            ],
            [
             0.2222222222222222,
             "#7201a8"
            ],
            [
             0.3333333333333333,
             "#9c179e"
            ],
            [
             0.4444444444444444,
             "#bd3786"
            ],
            [
             0.5555555555555556,
             "#d8576b"
            ],
            [
             0.6666666666666666,
             "#ed7953"
            ],
            [
             0.7777777777777778,
             "#fb9f3a"
            ],
            [
             0.8888888888888888,
             "#fdca26"
            ],
            [
             1,
             "#f0f921"
            ]
           ],
           "sequentialminus": [
            [
             0,
             "#0d0887"
            ],
            [
             0.1111111111111111,
             "#46039f"
            ],
            [
             0.2222222222222222,
             "#7201a8"
            ],
            [
             0.3333333333333333,
             "#9c179e"
            ],
            [
             0.4444444444444444,
             "#bd3786"
            ],
            [
             0.5555555555555556,
             "#d8576b"
            ],
            [
             0.6666666666666666,
             "#ed7953"
            ],
            [
             0.7777777777777778,
             "#fb9f3a"
            ],
            [
             0.8888888888888888,
             "#fdca26"
            ],
            [
             1,
             "#f0f921"
            ]
           ]
          },
          "colorway": [
           "#636efa",
           "#EF553B",
           "#00cc96",
           "#ab63fa",
           "#FFA15A",
           "#19d3f3",
           "#FF6692",
           "#B6E880",
           "#FF97FF",
           "#FECB52"
          ],
          "font": {
           "color": "#2a3f5f"
          },
          "geo": {
           "bgcolor": "white",
           "lakecolor": "white",
           "landcolor": "#E5ECF6",
           "showlakes": true,
           "showland": true,
           "subunitcolor": "white"
          },
          "hoverlabel": {
           "align": "left"
          },
          "hovermode": "closest",
          "mapbox": {
           "style": "light"
          },
          "paper_bgcolor": "white",
          "plot_bgcolor": "#E5ECF6",
          "polar": {
           "angularaxis": {
            "gridcolor": "white",
            "linecolor": "white",
            "ticks": ""
           },
           "bgcolor": "#E5ECF6",
           "radialaxis": {
            "gridcolor": "white",
            "linecolor": "white",
            "ticks": ""
           }
          },
          "scene": {
           "xaxis": {
            "backgroundcolor": "#E5ECF6",
            "gridcolor": "white",
            "gridwidth": 2,
            "linecolor": "white",
            "showbackground": true,
            "ticks": "",
            "zerolinecolor": "white"
           },
           "yaxis": {
            "backgroundcolor": "#E5ECF6",
            "gridcolor": "white",
            "gridwidth": 2,
            "linecolor": "white",
            "showbackground": true,
            "ticks": "",
            "zerolinecolor": "white"
           },
           "zaxis": {
            "backgroundcolor": "#E5ECF6",
            "gridcolor": "white",
            "gridwidth": 2,
            "linecolor": "white",
            "showbackground": true,
            "ticks": "",
            "zerolinecolor": "white"
           }
          },
          "shapedefaults": {
           "line": {
            "color": "#2a3f5f"
           }
          },
          "ternary": {
           "aaxis": {
            "gridcolor": "white",
            "linecolor": "white",
            "ticks": ""
           },
           "baxis": {
            "gridcolor": "white",
            "linecolor": "white",
            "ticks": ""
           },
           "bgcolor": "#E5ECF6",
           "caxis": {
            "gridcolor": "white",
            "linecolor": "white",
            "ticks": ""
           }
          },
          "title": {
           "x": 0.05
          },
          "xaxis": {
           "automargin": true,
           "gridcolor": "white",
           "linecolor": "white",
           "ticks": "",
           "title": {
            "standoff": 15
           },
           "zerolinecolor": "white",
           "zerolinewidth": 2
          },
          "yaxis": {
           "automargin": true,
           "gridcolor": "white",
           "linecolor": "white",
           "ticks": "",
           "title": {
            "standoff": 15
           },
           "zerolinecolor": "white",
           "zerolinewidth": 2
          }
         }
        },
        "title": {
         "text": "Commit Ratio vs Total Funding for Top 20 Projects in GG-22 - 609"
        },
        "width": 800,
        "xaxis": {
         "anchor": "y",
         "autorange": true,
         "domain": [
          0,
          1
         ],
         "range": [
          3.5775157112896365,
          4.723906776306909
         ],
         "title": {
          "text": "Total Funding ($)"
         },
         "type": "log"
        },
        "yaxis": {
         "anchor": "x",
         "autorange": true,
         "domain": [
          0,
          1
         ],
         "range": [
          0.10175300094398915,
          3.214002212045323
         ],
         "title": {
          "text": "Commits per Active Developer"
         },
         "type": "log"
        }
       }
      },
      "image/png": "[encoded data removed]",
      "text/html": [
       "<div>                            <div id=\"f526bf66-c916-427a-9b1e-829ec29c6134\" class=\"plotly-graph-div\" style=\"height:600px; width:800px;\"></div>            <script type=\"text/javascript\">                require([\"plotly\"], function(Plotly) {                    window.PLOTLYENV=window.PLOTLYENV || {};                                    if (document.getElementById(\"f526bf66-c916-427a-9b1e-829ec29c6134\")) {                    Plotly.newPlot(                        \"f526bf66-c916-427a-9b1e-829ec29c6134\",                        [{\"customdata\":[[\"defi-llama\"],[\"blockscout\"],[\"wevm\"],[\"ethers-io\"],[\"growthepie\"],[\"beacon-chain\"],[\"buidlguidl\"],[\"zkemail\"],[\"ethereum-attestation-service\"],[\"opensource-observer\"],[\"solady-vectorized\"],[\"commonsbuild\"],[\"synpress-synthexio\"],[\"otterscan\"],[\"lighthouse-web3\"],[\"solidity-ethereum\"],[\"sourcify-ethereum\"],[\"ethereum-cat-herders\"],[\"clrfund\"]],\"hovertemplate\":\"Total Funding ($)=%{x}\\u003cbr\\u003eCommits per Active Developer=%{y}\\u003cbr\\u003eActive Developers=%{marker.size}\\u003cbr\\u003eto_project_name=%{customdata[0]}\\u003cextra\\u003e\\u003c\\u002fextra\\u003e\",\"legendgroup\":\"\",\"marker\":{\"color\":\"#636efa\",\"size\":[13.0,25.0,6.0,1.0,7.0,4.0,16.0,18.0,3.0,45.0,2.0,1.0,1.0,2.0,5.0,12.0,6.0,5.0,1.0],\"sizemode\":\"area\",\"sizeref\":0.018,\"symbol\":\"circle\"},\"mode\":\"markers\",\"name\":\"\",\"orientation\":\"v\",\"showlegend\":false,\"x\":[42513.88320171035,35425.68763087022,34772.56057990283,20697.547356195166,18218.712565759968,12951.509379612966,10277.93137534129,9759.880243019303,7740.298473856681,7639.237111016736,7577.287624798147,6905.4770304577005,6841.808965744147,6301.131981784013,5727.583180182024,4692.439879716369,4692.439879716369,4692.439879716369,4692.439879716369],\"xaxis\":\"x\",\"y\":[796.0769230769231,64.72,213.5,52.0,134.14285714285714,17.0,98.8125,104.38888888888889,32.0,23.711111111111112,137.0,2.0,34.0,86.0,16.4,55.0,113.83333333333333,50.2,20.0],\"yaxis\":\"y\",\"type\":\"scatter\"}],                        {\"template\":{\"data\":{\"histogram2dcontour\":[{\"type\":\"histogram2dcontour\",\"colorbar\":{\"outlinewidth\":0,\"ticks\":\"\"},\"colorscale\":[[0.0,\"#0d0887\"],[0.1111111111111111,\"#46039f\"],[0.2222222222222222,\"#7201a8\"],[0.3333333333333333,\"#9c179e\"],[0.4444444444444444,\"#bd3786\"],[0.5555555555555556,\"#d8576b\"],[0.6666666666666666,\"#ed7953\"],[0.7777777777777778,\"#fb9f3a\"],[0.8888888888888888,\"#fdca26\"],[1.0,\"#f0f921\"]]}],\"choropleth\":[{\"type\":\"choropleth\",\"colorbar\":{\"outlinewidth\":0,\"ticks\":\"\"}}],\"histogram2d\":[{\"type\":\"histogram2d\",\"colorbar\":{\"outlinewidth\":0,\"ticks\":\"\"},\"colorscale\":[[0.0,\"#0d0887\"],[0.1111111111111111,\"#46039f\"],[0.2222222222222222,\"#7201a8\"],[0.3333333333333333,\"#9c179e\"],[0.4444444444444444,\"#bd3786\"],[0.5555555555555556,\"#d8576b\"],[0.6666666666666666,\"#ed7953\"],[0.7777777777777778,\"#fb9f3a\"],[0.8888888888888888,\"#fdca26\"],[1.0,\"#f0f921\"]]}],\"heatmap\":[{\"type\":\"heatmap\",\"colorbar\":{\"outlinewidth\":0,\"ticks\":\"\"},\"colorscale\":[[0.0,\"#0d0887\"],[0.1111111111111111,\"#46039f\"],[0.2222222222222222,\"#7201a8\"],[0.3333333333333333,\"#9c179e\"],[0.4444444444444444,\"#bd3786\"],[0.5555555555555556,\"#d8576b\"],[0.6666666666666666,\"#ed7953\"],[0.7777777777777778,\"#fb9f3a\"],[0.8888888888888888,\"#fdca26\"],[1.0,\"#f0f921\"]]}],\"heatmapgl\":[{\"type\":\"heatmapgl\",\"colorbar\":{\"outlinewidth\":0,\"ticks\":\"\"},\"colorscale\":[[0.0,\"#0d0887\"],[0.1111111111111111,\"#46039f\"],[0.2222222222222222,\"#7201a8\"],[0.3333333333333333,\"#9c179e\"],[0.4444444444444444,\"#bd3786\"],[0.5555555555555556,\"#d8576b\"],[0.6666666666666666,\"#ed7953\"],[0.7777777777777778,\"#fb9f3a\"],[0.8888888888888888,\"#fdca26\"],[1.0,\"#f0f921\"]]}],\"contourcarpet\":[{\"type\":\"contourcarpet\",\"colorbar\":{\"outlinewidth\":0,\"ticks\":\"\"}}],\"contour\":[{\"type\":\"contour\",\"colorbar\":{\"outlinewidth\":0,\"ticks\":\"\"},\"colorscale\":[[0.0,\"#0d0887\"],[0.1111111111111111,\"#46039f\"],[0.2222222222222222,\"#7201a8\"],[0.3333333333333333,\"#9c179e\"],[0.4444444444444444,\"#bd3786\"],[0.5555555555555556,\"#d8576b\"],[0.6666666666666666,\"#ed7953\"],[0.7777777777777778,\"#fb9f3a\"],[0.8888888888888888,\"#fdca26\"],[1.0,\"#f0f921\"]]}],\"surface\":[{\"type\":\"surface\",\"colorbar\":{\"outlinewidth\":0,\"ticks\":\"\"},\"colorscale\":[[0.0,\"#0d0887\"],[0.1111111111111111,\"#46039f\"],[0.2222222222222222,\"#7201a8\"],[0.3333333333333333,\"#9c179e\"],[0.4444444444444444,\"#bd3786\"],[0.5555555555555556,\"#d8576b\"],[0.6666666666666666,\"#ed7953\"],[0.7777777777777778,\"#fb9f3a\"],[0.8888888888888888,\"#fdca26\"],[1.0,\"#f0f921\"]]}],\"mesh3d\":[{\"type\":\"mesh3d\",\"colorbar\":{\"outlinewidth\":0,\"ticks\":\"\"}}],\"scatter\":[{\"fillpattern\":{\"fillmode\":\"overlay\",\"size\":10,\"solidity\":0.2},\"type\":\"scatter\"}],\"parcoords\":[{\"type\":\"parcoords\",\"line\":{\"colorbar\":{\"outlinewidth\":0,\"ticks\":\"\"}}}],\"scatterpolargl\":[{\"type\":\"scatterpolargl\",\"marker\":{\"colorbar\":{\"outlinewidth\":0,\"ticks\":\"\"}}}],\"bar\":[{\"error_x\":{\"color\":\"#2a3f5f\"},\"error_y\":{\"color\":\"#2a3f5f\"},\"marker\":{\"line\":{\"color\":\"#E5ECF6\",\"width\":0.5},\"pattern\":{\"fillmode\":\"overlay\",\"size\":10,\"solidity\":0.2}},\"type\":\"bar\"}],\"scattergeo\":[{\"type\":\"scattergeo\",\"marker\":{\"colorbar\":{\"outlinewidth\":0,\"ticks\":\"\"}}}],\"scatterpolar\":[{\"type\":\"scatterpolar\",\"marker\":{\"colorbar\":{\"outlinewidth\":0,\"ticks\":\"\"}}}],\"histogram\":[{\"marker\":{\"pattern\":{\"fillmode\":\"overlay\",\"size\":10,\"solidity\":0.2}},\"type\":\"histogram\"}],\"scattergl\":[{\"type\":\"scattergl\",\"marker\":{\"colorbar\":{\"outlinewidth\":0,\"ticks\":\"\"}}}],\"scatter3d\":[{\"type\":\"scatter3d\",\"line\":{\"colorbar\":{\"outlinewidth\":0,\"ticks\":\"\"}},\"marker\":{\"colorbar\":{\"outlinewidth\":0,\"ticks\":\"\"}}}],\"scattermapbox\":[{\"type\":\"scattermapbox\",\"marker\":{\"colorbar\":{\"outlinewidth\":0,\"ticks\":\"\"}}}],\"scatterternary\":[{\"type\":\"scatterternary\",\"marker\":{\"colorbar\":{\"outlinewidth\":0,\"ticks\":\"\"}}}],\"scattercarpet\":[{\"type\":\"scattercarpet\",\"marker\":{\"colorbar\":{\"outlinewidth\":0,\"ticks\":\"\"}}}],\"carpet\":[{\"aaxis\":{\"endlinecolor\":\"#2a3f5f\",\"gridcolor\":\"white\",\"linecolor\":\"white\",\"minorgridcolor\":\"white\",\"startlinecolor\":\"#2a3f5f\"},\"baxis\":{\"endlinecolor\":\"#2a3f5f\",\"gridcolor\":\"white\",\"linecolor\":\"white\",\"minorgridcolor\":\"white\",\"startlinecolor\":\"#2a3f5f\"},\"type\":\"carpet\"}],\"table\":[{\"cells\":{\"fill\":{\"color\":\"#EBF0F8\"},\"line\":{\"color\":\"white\"}},\"header\":{\"fill\":{\"color\":\"#C8D4E3\"},\"line\":{\"color\":\"white\"}},\"type\":\"table\"}],\"barpolar\":[{\"marker\":{\"line\":{\"color\":\"#E5ECF6\",\"width\":0.5},\"pattern\":{\"fillmode\":\"overlay\",\"size\":10,\"solidity\":0.2}},\"type\":\"barpolar\"}],\"pie\":[{\"automargin\":true,\"type\":\"pie\"}]},\"layout\":{\"autotypenumbers\":\"strict\",\"colorway\":[\"#636efa\",\"#EF553B\",\"#00cc96\",\"#ab63fa\",\"#FFA15A\",\"#19d3f3\",\"#FF6692\",\"#B6E880\",\"#FF97FF\",\"#FECB52\"],\"font\":{\"color\":\"#2a3f5f\"},\"hovermode\":\"closest\",\"hoverlabel\":{\"align\":\"left\"},\"paper_bgcolor\":\"white\",\"plot_bgcolor\":\"#E5ECF6\",\"polar\":{\"bgcolor\":\"#E5ECF6\",\"angularaxis\":{\"gridcolor\":\"white\",\"linecolor\":\"white\",\"ticks\":\"\"},\"radialaxis\":{\"gridcolor\":\"white\",\"linecolor\":\"white\",\"ticks\":\"\"}},\"ternary\":{\"bgcolor\":\"#E5ECF6\",\"aaxis\":{\"gridcolor\":\"white\",\"linecolor\":\"white\",\"ticks\":\"\"},\"baxis\":{\"gridcolor\":\"white\",\"linecolor\":\"white\",\"ticks\":\"\"},\"caxis\":{\"gridcolor\":\"white\",\"linecolor\":\"white\",\"ticks\":\"\"}},\"coloraxis\":{\"colorbar\":{\"outlinewidth\":0,\"ticks\":\"\"}},\"colorscale\":{\"sequential\":[[0.0,\"#0d0887\"],[0.1111111111111111,\"#46039f\"],[0.2222222222222222,\"#7201a8\"],[0.3333333333333333,\"#9c179e\"],[0.4444444444444444,\"#bd3786\"],[0.5555555555555556,\"#d8576b\"],[0.6666666666666666,\"#ed7953\"],[0.7777777777777778,\"#fb9f3a\"],[0.8888888888888888,\"#fdca26\"],[1.0,\"#f0f921\"]],\"sequentialminus\":[[0.0,\"#0d0887\"],[0.1111111111111111,\"#46039f\"],[0.2222222222222222,\"#7201a8\"],[0.3333333333333333,\"#9c179e\"],[0.4444444444444444,\"#bd3786\"],[0.5555555555555556,\"#d8576b\"],[0.6666666666666666,\"#ed7953\"],[0.7777777777777778,\"#fb9f3a\"],[0.8888888888888888,\"#fdca26\"],[1.0,\"#f0f921\"]],\"diverging\":[[0,\"#8e0152\"],[0.1,\"#c51b7d\"],[0.2,\"#de77ae\"],[0.3,\"#f1b6da\"],[0.4,\"#fde0ef\"],[0.5,\"#f7f7f7\"],[0.6,\"#e6f5d0\"],[0.7,\"#b8e186\"],[0.8,\"#7fbc41\"],[0.9,\"#4d9221\"],[1,\"#276419\"]]},\"xaxis\":{\"gridcolor\":\"white\",\"linecolor\":\"white\",\"ticks\":\"\",\"title\":{\"standoff\":15},\"zerolinecolor\":\"white\",\"automargin\":true,\"zerolinewidth\":2},\"yaxis\":{\"gridcolor\":\"white\",\"linecolor\":\"white\",\"ticks\":\"\",\"title\":{\"standoff\":15},\"zerolinecolor\":\"white\",\"automargin\":true,\"zerolinewidth\":2},\"scene\":{\"xaxis\":{\"backgroundcolor\":\"#E5ECF6\",\"gridcolor\":\"white\",\"linecolor\":\"white\",\"showbackground\":true,\"ticks\":\"\",\"zerolinecolor\":\"white\",\"gridwidth\":2},\"yaxis\":{\"backgroundcolor\":\"#E5ECF6\",\"gridcolor\":\"white\",\"linecolor\":\"white\",\"showbackground\":true,\"ticks\":\"\",\"zerolinecolor\":\"white\",\"gridwidth\":2},\"zaxis\":{\"backgroundcolor\":\"#E5ECF6\",\"gridcolor\":\"white\",\"linecolor\":\"white\",\"showbackground\":true,\"ticks\":\"\",\"zerolinecolor\":\"white\",\"gridwidth\":2}},\"shapedefaults\":{\"line\":{\"color\":\"#2a3f5f\"}},\"annotationdefaults\":{\"arrowcolor\":\"#2a3f5f\",\"arrowhead\":0,\"arrowwidth\":1},\"geo\":{\"bgcolor\":\"white\",\"landcolor\":\"#E5ECF6\",\"subunitcolor\":\"white\",\"showland\":true,\"showlakes\":true,\"lakecolor\":\"white\"},\"title\":{\"x\":0.05},\"mapbox\":{\"style\":\"light\"}}},\"xaxis\":{\"anchor\":\"y\",\"domain\":[0.0,1.0],\"title\":{\"text\":\"Total Funding ($)\"},\"type\":\"log\"},\"yaxis\":{\"anchor\":\"x\",\"domain\":[0.0,1.0],\"title\":{\"text\":\"Commits per Active Developer\"},\"type\":\"log\"},\"legend\":{\"tracegroupgap\":0,\"itemsizing\":\"constant\"},\"title\":{\"text\":\"Commit Ratio vs Total Funding for Top 20 Projects in GG-22 - 609\"},\"height\":600,\"width\":800},                        {\"responsive\": true}                    ).then(function(){\n",
       "                            \n",
       "var gd = document.getElementById('f526bf66-c916-427a-9b1e-829ec29c6134');\n",
       "var x = new MutationObserver(function (mutations, observer) {{\n",
       "        var display = window.getComputedStyle(gd).display;\n",
       "        if (!display || display === 'none') {{\n",
       "            console.log([gd, 'removed!']);\n",
       "            Plotly.purge(gd);\n",
       "            observer.disconnect();\n",
       "        }}\n",
       "}});\n",
       "\n",
       "// Listen for the removal of the full notebook cells\n",
       "var notebookContainer = gd.closest('#notebook-container');\n",
       "if (notebookContainer) {{\n",
       "    x.observe(notebookContainer, {childList: true});\n",
       "}}\n",
       "\n",
       "// Listen for the clearing of the current output cell\n",
       "var outputEl = gd.closest('.output');\n",
       "if (outputEl) {{\n",
       "    x.observe(outputEl, {childList: true});\n",
       "}}\n",
       "\n",
       "                        })                };                });            </script>        </div>"
      ]
     },
     "metadata": {},
     "output_type": "display_data"
    }
   ],
   "source": [
    "import plotly.express as px\n",
    "\n",
    "# Assuming `results_df` is the dataframe containing the query results\n",
    "results_df = results.to_dataframe()\n",
    "\n",
    "# Calculate the ratio of commit_count_6_months to active_developer_count_6_months\n",
    "results_df['commit_ratio'] = results_df['commit_count_6_months'] / results_df['active_developer_count_6_months']\n",
    "\n",
    "# Create the scatter plot using Plotly with bubble size\n",
    "fig = px.scatter(\n",
    "    results_df,\n",
    "    x='total_funding',\n",
    "    y='commit_ratio',\n",
    "    size='active_developer_count_6_months',  # Bubble size\n",
    "    size_max=50,\n",
    "    hover_data=['to_project_name'],\n",
    "    labels={\n",
    "        'total_funding': 'Total Funding ($)',\n",
    "        'commit_ratio': 'Commits per Active Developer',\n",
    "        'active_developer_count_6_months': 'Active Developers'\n",
    "    },\n",
    "    title='Commit Ratio vs Total Funding for Top 20 Projects in GG-22 - 609',\n",
    "    log_x=True,  # Logarithmic X-axis\n",
    "    log_y=True   # Logarithmic Y-axis\n",
    ")\n",
    "\n",
    "# Update layout for better visualization\n",
    "fig.update_layout(\n",
    "    xaxis_title='Total Funding ($)',\n",
    "    yaxis_title='Commits per Active Developer',\n",
    "    height=600,\n",
    "    width=800\n",
    ")\n",
    "\n",
    "# Show the scatter plot\n",
    "fig.show()"
   ]
  },
  {
   "cell_type": "markdown",
   "id": "e4e80f43-7df8-4309-8b0d-17d801c008f9",
   "metadata": {},
   "source": [
    "### Discover grantees with most similar coding metrics to another project"
   ]
  },
  {
   "cell_type": "code",
   "execution_count": 9,
   "id": "5a0bf17e-fbd0-468d-b108-d5775e2f64b3",
   "metadata": {},
   "outputs": [
    {
     "data": {
      "text/html": [
       "<div>\n",
       "<style scoped>\n",
       "    .dataframe tbody tr th:only-of-type {\n",
       "        vertical-align: middle;\n",
       "    }\n",
       "\n",
       "    .dataframe tbody tr th {\n",
       "        vertical-align: top;\n",
       "    }\n",
       "\n",
       "    .dataframe thead th {\n",
       "        text-align: right;\n",
       "    }\n",
       "</style>\n",
       "<table border=\"1\" class=\"dataframe\">\n",
       "  <thead>\n",
       "    <tr style=\"text-align: right;\">\n",
       "      <th></th>\n",
       "      <th>project_name</th>\n",
       "      <th>active_developer_count_6_months</th>\n",
       "      <th>commit_per_developer</th>\n",
       "      <th>contributor_per_developer</th>\n",
       "      <th>similarity_score</th>\n",
       "    </tr>\n",
       "  </thead>\n",
       "  <tbody>\n",
       "    <tr>\n",
       "      <th>0</th>\n",
       "      <td>decentraland</td>\n",
       "      <td>39.0</td>\n",
       "      <td>26.282051</td>\n",
       "      <td>1.564103</td>\n",
       "      <td>6.527619</td>\n",
       "    </tr>\n",
       "    <tr>\n",
       "      <th>1</th>\n",
       "      <td>fuellabs</td>\n",
       "      <td>49.0</td>\n",
       "      <td>18.306122</td>\n",
       "      <td>2.551020</td>\n",
       "      <td>6.797415</td>\n",
       "    </tr>\n",
       "    <tr>\n",
       "      <th>2</th>\n",
       "      <td>nodejs</td>\n",
       "      <td>51.0</td>\n",
       "      <td>21.647059</td>\n",
       "      <td>4.627451</td>\n",
       "      <td>7.049600</td>\n",
       "    </tr>\n",
       "    <tr>\n",
       "      <th>3</th>\n",
       "      <td>graph-protocol</td>\n",
       "      <td>38.0</td>\n",
       "      <td>24.052632</td>\n",
       "      <td>3.578947</td>\n",
       "      <td>7.294570</td>\n",
       "    </tr>\n",
       "    <tr>\n",
       "      <th>4</th>\n",
       "      <td>status-im</td>\n",
       "      <td>55.0</td>\n",
       "      <td>26.527273</td>\n",
       "      <td>1.763636</td>\n",
       "      <td>10.391057</td>\n",
       "    </tr>\n",
       "    <tr>\n",
       "      <th>5</th>\n",
       "      <td>polygon-hermez</td>\n",
       "      <td>38.0</td>\n",
       "      <td>32.578947</td>\n",
       "      <td>3.500000</td>\n",
       "      <td>11.463829</td>\n",
       "    </tr>\n",
       "    <tr>\n",
       "      <th>6</th>\n",
       "      <td>aztecprotocol</td>\n",
       "      <td>44.0</td>\n",
       "      <td>35.068182</td>\n",
       "      <td>2.863636</td>\n",
       "      <td>11.475806</td>\n",
       "    </tr>\n",
       "    <tr>\n",
       "      <th>7</th>\n",
       "      <td>servo</td>\n",
       "      <td>39.0</td>\n",
       "      <td>13.358974</td>\n",
       "      <td>1.589744</td>\n",
       "      <td>11.965279</td>\n",
       "    </tr>\n",
       "    <tr>\n",
       "      <th>8</th>\n",
       "      <td>layr-labs</td>\n",
       "      <td>35.0</td>\n",
       "      <td>31.200000</td>\n",
       "      <td>2.657143</td>\n",
       "      <td>12.541808</td>\n",
       "    </tr>\n",
       "    <tr>\n",
       "      <th>9</th>\n",
       "      <td>foundry</td>\n",
       "      <td>39.0</td>\n",
       "      <td>27.435897</td>\n",
       "      <td>12.512821</td>\n",
       "      <td>13.035938</td>\n",
       "    </tr>\n",
       "  </tbody>\n",
       "</table>\n",
       "</div>"
      ],
      "text/plain": [
       "     project_name  active_developer_count_6_months  commit_per_developer  \\\n",
       "0    decentraland                             39.0             26.282051   \n",
       "1        fuellabs                             49.0             18.306122   \n",
       "2          nodejs                             51.0             21.647059   \n",
       "3  graph-protocol                             38.0             24.052632   \n",
       "4       status-im                             55.0             26.527273   \n",
       "5  polygon-hermez                             38.0             32.578947   \n",
       "6   aztecprotocol                             44.0             35.068182   \n",
       "7           servo                             39.0             13.358974   \n",
       "8       layr-labs                             35.0             31.200000   \n",
       "9         foundry                             39.0             27.435897   \n",
       "\n",
       "   contributor_per_developer  similarity_score  \n",
       "0                   1.564103          6.527619  \n",
       "1                   2.551020          6.797415  \n",
       "2                   4.627451          7.049600  \n",
       "3                   3.578947          7.294570  \n",
       "4                   1.763636         10.391057  \n",
       "5                   3.500000         11.463829  \n",
       "6                   2.863636         11.475806  \n",
       "7                   1.589744         11.965279  \n",
       "8                   2.657143         12.541808  \n",
       "9                  12.512821         13.035938  "
      ]
     },
     "execution_count": 9,
     "metadata": {},
     "output_type": "execute_result"
    }
   ],
   "source": [
    "query = \"\"\"\n",
    "    WITH reference_metrics AS (\n",
    "        SELECT \n",
    "            active_developer_count_6_months AS reference_active_developers,\n",
    "            commit_count_6_months / active_developer_count_6_months AS reference_commit_per_developer,\n",
    "            contributor_count_6_months / active_developer_count_6_months AS reference_contributor_per_developer\n",
    "        FROM `oso_production.code_metrics_by_project_v1`\n",
    "        WHERE project_name = 'opensource-observer'\n",
    "    )\n",
    "    SELECT \n",
    "        project_name,\n",
    "        active_developer_count_6_months,\n",
    "        commit_count_6_months / active_developer_count_6_months AS commit_per_developer,\n",
    "        contributor_count_6_months / active_developer_count_6_months AS contributor_per_developer,\n",
    "        SQRT(\n",
    "            POWER((commit_count_6_months / active_developer_count_6_months - reference_commit_per_developer), 2) +\n",
    "            POWER((contributor_count_6_months / active_developer_count_6_months - reference_contributor_per_developer), 2) +\n",
    "            POWER((active_developer_count_6_months - reference_active_developers), 2)\n",
    "        ) AS similarity_score\n",
    "    FROM `oso_production.code_metrics_by_project_v1`, reference_metrics\n",
    "    WHERE project_name != 'opensource-observer'\n",
    "      and active_developer_count_6_months > 0\n",
    "    ORDER BY similarity_score ASC\n",
    "    LIMIT 10;\n",
    "\"\"\"\n",
    "results = client.query(query)\n",
    "results.to_dataframe()"
   ]
  },
  {
   "cell_type": "markdown",
   "id": "115b2fd0-73bd-4c2c-bef3-cee2ac952712",
   "metadata": {},
   "source": [
    "### Find other funders of the top Gitcoin Grants recipients"
   ]
  },
  {
   "cell_type": "code",
   "execution_count": 12,
   "id": "79e47631-cca7-4b7b-b5ef-b6ac6c86c1f7",
   "metadata": {},
   "outputs": [
    {
     "data": {
      "text/html": [
       "<div>\n",
       "<style scoped>\n",
       "    .dataframe tbody tr th:only-of-type {\n",
       "        vertical-align: middle;\n",
       "    }\n",
       "\n",
       "    .dataframe tbody tr th {\n",
       "        vertical-align: top;\n",
       "    }\n",
       "\n",
       "    .dataframe thead th {\n",
       "        text-align: right;\n",
       "    }\n",
       "</style>\n",
       "<table border=\"1\" class=\"dataframe\">\n",
       "  <thead>\n",
       "    <tr style=\"text-align: right;\">\n",
       "      <th></th>\n",
       "      <th>project</th>\n",
       "      <th>funder</th>\n",
       "      <th>funding_amount</th>\n",
       "    </tr>\n",
       "  </thead>\n",
       "  <tbody>\n",
       "    <tr>\n",
       "      <th>0</th>\n",
       "      <td>0xparc</td>\n",
       "      <td>optimism</td>\n",
       "      <td>309081.000000</td>\n",
       "    </tr>\n",
       "    <tr>\n",
       "      <th>1</th>\n",
       "      <td>0xparc</td>\n",
       "      <td>gitcoin</td>\n",
       "      <td>167251.942560</td>\n",
       "    </tr>\n",
       "    <tr>\n",
       "      <th>2</th>\n",
       "      <td>4everland</td>\n",
       "      <td>gitcoin</td>\n",
       "      <td>132240.811258</td>\n",
       "    </tr>\n",
       "    <tr>\n",
       "      <th>3</th>\n",
       "      <td>beacon-chain</td>\n",
       "      <td>optimism</td>\n",
       "      <td>941367.365000</td>\n",
       "    </tr>\n",
       "    <tr>\n",
       "      <th>4</th>\n",
       "      <td>beacon-chain</td>\n",
       "      <td>gitcoin</td>\n",
       "      <td>266918.335561</td>\n",
       "    </tr>\n",
       "    <tr>\n",
       "      <th>...</th>\n",
       "      <td>...</td>\n",
       "      <td>...</td>\n",
       "      <td>...</td>\n",
       "    </tr>\n",
       "    <tr>\n",
       "      <th>103</th>\n",
       "      <td>walletconnect</td>\n",
       "      <td>opencollective</td>\n",
       "      <td>1.000000</td>\n",
       "    </tr>\n",
       "    <tr>\n",
       "      <th>104</th>\n",
       "      <td>wevm</td>\n",
       "      <td>optimism</td>\n",
       "      <td>930349.495000</td>\n",
       "    </tr>\n",
       "    <tr>\n",
       "      <th>105</th>\n",
       "      <td>wevm</td>\n",
       "      <td>gitcoin</td>\n",
       "      <td>179007.734368</td>\n",
       "    </tr>\n",
       "    <tr>\n",
       "      <th>106</th>\n",
       "      <td>zeropoolnetwork</td>\n",
       "      <td>gitcoin</td>\n",
       "      <td>325870.170831</td>\n",
       "    </tr>\n",
       "    <tr>\n",
       "      <th>107</th>\n",
       "      <td>zigzagexchange</td>\n",
       "      <td>gitcoin</td>\n",
       "      <td>291415.523671</td>\n",
       "    </tr>\n",
       "  </tbody>\n",
       "</table>\n",
       "<p>108 rows × 3 columns</p>\n",
       "</div>"
      ],
      "text/plain": [
       "             project          funder  funding_amount\n",
       "0             0xparc        optimism   309081.000000\n",
       "1             0xparc         gitcoin   167251.942560\n",
       "2          4everland         gitcoin   132240.811258\n",
       "3       beacon-chain        optimism   941367.365000\n",
       "4       beacon-chain         gitcoin   266918.335561\n",
       "..               ...             ...             ...\n",
       "103    walletconnect  opencollective        1.000000\n",
       "104             wevm        optimism   930349.495000\n",
       "105             wevm         gitcoin   179007.734368\n",
       "106  zeropoolnetwork         gitcoin   325870.170831\n",
       "107   zigzagexchange         gitcoin   291415.523671\n",
       "\n",
       "[108 rows x 3 columns]"
      ]
     },
     "execution_count": 12,
     "metadata": {},
     "output_type": "execute_result"
    }
   ],
   "source": [
    "query = \"\"\"\n",
    "    WITH top_projects AS (\n",
    "        -- Select the top 50 projects funded by Gitcoin\n",
    "        SELECT \n",
    "            to_project_name,\n",
    "            SUM(amount) AS total_funding\n",
    "        FROM \n",
    "            `oso_production.oss_funding_v0`\n",
    "        WHERE \n",
    "            from_project_name = 'gitcoin'\n",
    "        GROUP BY \n",
    "            to_project_name\n",
    "        ORDER BY \n",
    "            total_funding DESC\n",
    "        LIMIT 50\n",
    "    )\n",
    "    SELECT \n",
    "        o.to_project_name AS project,\n",
    "        o.from_project_name AS funder,\n",
    "        SUM(o.amount) AS funding_amount\n",
    "    FROM \n",
    "        `oso_production.oss_funding_v0` o\n",
    "    JOIN \n",
    "        top_projects t\n",
    "    ON \n",
    "        o.to_project_name = t.to_project_name\n",
    "    GROUP BY \n",
    "        o.from_project_name, o.to_project_name\n",
    "    ORDER BY \n",
    "        project, funding_amount DESC;\n",
    "\"\"\"\n",
    "results = client.query(query)\n",
    "results.to_dataframe()"
   ]
  },
  {
   "cell_type": "markdown",
   "id": "e8dd032a-1f67-4386-9f05-f7cce35e032f",
   "metadata": {},
   "source": [
    "### Funding Flows for top Gitcoin Grants Recipients"
   ]
  },
  {
   "cell_type": "code",
   "execution_count": 18,
   "id": "09a341a4-6906-4b05-916f-286891daa66e",
   "metadata": {},
   "outputs": [
    {
     "data": {
      "application/vnd.plotly.v1+json": {
       "config": {
        "plotlyServerURL": "https://plot.ly"
       },
       "data": [
        {
         "link": {
          "hovertemplate": "Funding Amount: %{value}<extra></extra>",
          "source": [
           0,
           1,
           1,
           0,
           1,
           0,
           1,
           2,
           1,
           1,
           0,
           3,
           2,
           0,
           1,
           0,
           1,
           0,
           1,
           2,
           1,
           0,
           1,
           1,
           0,
           1,
           1,
           0,
           1,
           4,
           0,
           1,
           4,
           5,
           2,
           0,
           1,
           1,
           0,
           3,
           1,
           0,
           1,
           1,
           0,
           2,
           0,
           1,
           3,
           6,
           4,
           0,
           1,
           0,
           1,
           1,
           1,
           0,
           1,
           3,
           0,
           1,
           3,
           0,
           1,
           0,
           1,
           1,
           0,
           1,
           0,
           1,
           4,
           2,
           0,
           3,
           1,
           2,
           1,
           1,
           1,
           0,
           3,
           0,
           1,
           3,
           4,
           2,
           1,
           0,
           1,
           0,
           1,
           0,
           1,
           1,
           3,
           0,
           1,
           2,
           0,
           1,
           1,
           5,
           0,
           1,
           1,
           1
          ],
          "target": [
           7,
           7,
           8,
           9,
           9,
           10,
           10,
           10,
           11,
           12,
           12,
           12,
           12,
           13,
           13,
           14,
           14,
           15,
           15,
           15,
           16,
           17,
           17,
           18,
           18,
           19,
           20,
           21,
           21,
           21,
           22,
           22,
           22,
           22,
           22,
           23,
           23,
           24,
           24,
           24,
           25,
           26,
           26,
           27,
           27,
           27,
           28,
           28,
           28,
           28,
           28,
           29,
           29,
           30,
           30,
           31,
           32,
           33,
           33,
           33,
           34,
           34,
           34,
           35,
           35,
           36,
           36,
           37,
           38,
           38,
           39,
           39,
           39,
           39,
           40,
           40,
           40,
           40,
           41,
           42,
           43,
           43,
           43,
           44,
           44,
           44,
           44,
           44,
           45,
           45,
           46,
           47,
           47,
           48,
           48,
           49,
           49,
           50,
           50,
           50,
           51,
           51,
           52,
           52,
           53,
           53,
           54,
           55
          ],
          "value": [
           309081,
           167251.94255999153,
           132240.81125790987,
           941367.365,
           266918.33556130395,
           793543.495,
           117282.90934402226,
           256.807026055038,
           129774.31101636638,
           267973.0197905392,
           260870.61,
           13053.2,
           4256.11048459251,
           1166407.8523421397,
           256709.7572184696,
           403536.25,
           203932.1900311041,
           1092793.99818689,
           265624.89499999577,
           2236.9713626425,
           168708.3846517977,
           1860698.319002579,
           713440.3877172214,
           218604.18619345952,
           50558.8232380367,
           136923.35014185138,
           396257.69858583563,
           486232.48,
           155649.21491518852,
           10530,
           1357193.975,
           553467.3981447871,
           11801,
           720,
           624.205014723282,
           267559.355,
           255548.72031650387,
           326678.8092058637,
           286957.685,
           59700.335,
           196192.486434481,
           504133.795,
           153922.54981679,
           176643.29391242636,
           114304.795,
           35.1500685654214,
           784193.9909726208,
           142979.88177474908,
           93294.03099999999,
           50000,
           18186,
           2483748.427972734,
           173562.38382970728,
           980873.53,
           215308.29425350836,
           483399.2573993966,
           415608.3780523415,
           545879.98,
           221968.44274581174,
           13832.25,
           1080095.995,
           342533.06061922346,
           40684.696,
           1116801.126632725,
           142929.8792980785,
           1528832.896099024,
           381919.63572724967,
           186142.47450496853,
           1817697.213313959,
           119369.75194994298,
           699529.685,
           117920.2968805752,
           7716,
           511.947768288335,
           3539192.294284813,
           411288.856,
           191245.70042677797,
           5122.57263128073,
           370638.76337887,
           223062.8152422189,
           839105.1566493114,
           631976.255,
           38577.908,
           990420.755,
           611925.9379990406,
           154957.00300000003,
           10863,
           1416.56143555841,
           433372.0809777215,
           236374.88,
           120845.51965130283,
           914203.495,
           125990.79849602577,
           500000,
           179108.065172602,
           356788.356058815,
           75935.509,
           586063.3200000001,
           152470.6104424287,
           251.75310016041,
           375000,
           186674.18493302885,
           136707.00180181194,
           1,
           930349.495,
           179007.73436845766,
           325870.17083115055,
           291415.5236712398
          ]
         },
         "node": {
          "label": [
           "optimism",
           "gitcoin",
           "clrfund",
           "octant-golemfoundation",
           "dao-drops-dorgtech",
           "opencollective",
           "stellar",
           "0xparc",
           "4everland",
           "beacon-chain",
           "blockscout",
           "bloomnetwork",
           "brightid",
           "buidlguidl",
           "commons-stack",
           "dappnode",
           "dataverse-os",
           "defi-llama",
           "defieye",
           "edendao",
           "electronic-frontier-foundation",
           "eth-limo",
           "ethers-io",
           "ethhub-io",
           "ethstaker",
           "fileverse",
           "frame-floating",
           "geo-web",
           "giveth",
           "go-ethereum",
           "hardhat-nomicfoundation",
           "heyxyz",
           "jedi-swap",
           "kernel-community",
           "l2beat",
           "lifinance",
           "lighthouse-sigp",
           "mummy-finance",
           "nethermindeth",
           "otterscan",
           "protocol-guild",
           "prysmaticlabs",
           "rekthq",
           "revoke-cash",
           "rotki",
           "scopelift",
           "shambadynamic",
           "snapshot-labs",
           "taho-wallet",
           "tor-project",
           "trueblocks",
           "via-protocol",
           "walletconnect",
           "wevm",
           "zeropoolnetwork",
           "zigzagexchange"
          ],
          "line": {
           "color": "black",
           "width": 0.5
          },
          "pad": 15,
          "thickness": 20
         },
         "type": "sankey"
        }
       ],
       "layout": {
        "autosize": true,
        "font": {
         "size": 10
        },
        "template": {
         "data": {
          "bar": [
           {
            "error_x": {
             "color": "#2a3f5f"
            },
            "error_y": {
             "color": "#2a3f5f"
            },
            "marker": {
             "line": {
              "color": "#E5ECF6",
              "width": 0.5
             },
             "pattern": {
              "fillmode": "overlay",
              "size": 10,
              "solidity": 0.2
             }
            },
            "type": "bar"
           }
          ],
          "barpolar": [
           {
            "marker": {
             "line": {
              "color": "#E5ECF6",
              "width": 0.5
             },
             "pattern": {
              "fillmode": "overlay",
              "size": 10,
              "solidity": 0.2
             }
            },
            "type": "barpolar"
           }
          ],
          "carpet": [
           {
            "aaxis": {
             "endlinecolor": "#2a3f5f",
             "gridcolor": "white",
             "linecolor": "white",
             "minorgridcolor": "white",
             "startlinecolor": "#2a3f5f"
            },
            "baxis": {
             "endlinecolor": "#2a3f5f",
             "gridcolor": "white",
             "linecolor": "white",
             "minorgridcolor": "white",
             "startlinecolor": "#2a3f5f"
            },
            "type": "carpet"
           }
          ],
          "choropleth": [
           {
            "colorbar": {
             "outlinewidth": 0,
             "ticks": ""
            },
            "type": "choropleth"
           }
          ],
          "contour": [
           {
            "colorbar": {
             "outlinewidth": 0,
             "ticks": ""
            },
            "colorscale": [
             [
              0,
              "#0d0887"
             ],
             [
              0.1111111111111111,
              "#46039f"
             ],
             [
              0.2222222222222222,
              "#7201a8"
             ],
             [
              0.3333333333333333,
              "#9c179e"
             ],
             [
              0.4444444444444444,
              "#bd3786"
             ],
             [
              0.5555555555555556,
              "#d8576b"
             ],
             [
              0.6666666666666666,
              "#ed7953"
             ],
             [
              0.7777777777777778,
              "#fb9f3a"
             ],
             [
              0.8888888888888888,
              "#fdca26"
             ],
             [
              1,
              "#f0f921"
             ]
            ],
            "type": "contour"
           }
          ],
          "contourcarpet": [
           {
            "colorbar": {
             "outlinewidth": 0,
             "ticks": ""
            },
            "type": "contourcarpet"
           }
          ],
          "heatmap": [
           {
            "colorbar": {
             "outlinewidth": 0,
             "ticks": ""
            },
            "colorscale": [
             [
              0,
              "#0d0887"
             ],
             [
              0.1111111111111111,
              "#46039f"
             ],
             [
              0.2222222222222222,
              "#7201a8"
             ],
             [
              0.3333333333333333,
              "#9c179e"
             ],
             [
              0.4444444444444444,
              "#bd3786"
             ],
             [
              0.5555555555555556,
              "#d8576b"
             ],
             [
              0.6666666666666666,
              "#ed7953"
             ],
             [
              0.7777777777777778,
              "#fb9f3a"
             ],
             [
              0.8888888888888888,
              "#fdca26"
             ],
             [
              1,
              "#f0f921"
             ]
            ],
            "type": "heatmap"
           }
          ],
          "heatmapgl": [
           {
            "colorbar": {
             "outlinewidth": 0,
             "ticks": ""
            },
            "colorscale": [
             [
              0,
              "#0d0887"
             ],
             [
              0.1111111111111111,
              "#46039f"
             ],
             [
              0.2222222222222222,
              "#7201a8"
             ],
             [
              0.3333333333333333,
              "#9c179e"
             ],
             [
              0.4444444444444444,
              "#bd3786"
             ],
             [
              0.5555555555555556,
              "#d8576b"
             ],
             [
              0.6666666666666666,
              "#ed7953"
             ],
             [
              0.7777777777777778,
              "#fb9f3a"
             ],
             [
              0.8888888888888888,
              "#fdca26"
             ],
             [
              1,
              "#f0f921"
             ]
            ],
            "type": "heatmapgl"
           }
          ],
          "histogram": [
           {
            "marker": {
             "pattern": {
              "fillmode": "overlay",
              "size": 10,
              "solidity": 0.2
             }
            },
            "type": "histogram"
           }
          ],
          "histogram2d": [
           {
            "colorbar": {
             "outlinewidth": 0,
             "ticks": ""
            },
            "colorscale": [
             [
              0,
              "#0d0887"
             ],
             [
              0.1111111111111111,
              "#46039f"
             ],
             [
              0.2222222222222222,
              "#7201a8"
             ],
             [
              0.3333333333333333,
              "#9c179e"
             ],
             [
              0.4444444444444444,
              "#bd3786"
             ],
             [
              0.5555555555555556,
              "#d8576b"
             ],
             [
              0.6666666666666666,
              "#ed7953"
             ],
             [
              0.7777777777777778,
              "#fb9f3a"
             ],
             [
              0.8888888888888888,
              "#fdca26"
             ],
             [
              1,
              "#f0f921"
             ]
            ],
            "type": "histogram2d"
           }
          ],
          "histogram2dcontour": [
           {
            "colorbar": {
             "outlinewidth": 0,
             "ticks": ""
            },
            "colorscale": [
             [
              0,
              "#0d0887"
             ],
             [
              0.1111111111111111,
              "#46039f"
             ],
             [
              0.2222222222222222,
              "#7201a8"
             ],
             [
              0.3333333333333333,
              "#9c179e"
             ],
             [
              0.4444444444444444,
              "#bd3786"
             ],
             [
              0.5555555555555556,
              "#d8576b"
             ],
             [
              0.6666666666666666,
              "#ed7953"
             ],
             [
              0.7777777777777778,
              "#fb9f3a"
             ],
             [
              0.8888888888888888,
              "#fdca26"
             ],
             [
              1,
              "#f0f921"
             ]
            ],
            "type": "histogram2dcontour"
           }
          ],
          "mesh3d": [
           {
            "colorbar": {
             "outlinewidth": 0,
             "ticks": ""
            },
            "type": "mesh3d"
           }
          ],
          "parcoords": [
           {
            "line": {
             "colorbar": {
              "outlinewidth": 0,
              "ticks": ""
             }
            },
            "type": "parcoords"
           }
          ],
          "pie": [
           {
            "automargin": true,
            "type": "pie"
           }
          ],
          "scatter": [
           {
            "fillpattern": {
             "fillmode": "overlay",
             "size": 10,
             "solidity": 0.2
            },
            "type": "scatter"
           }
          ],
          "scatter3d": [
           {
            "line": {
             "colorbar": {
              "outlinewidth": 0,
              "ticks": ""
             }
            },
            "marker": {
             "colorbar": {
              "outlinewidth": 0,
              "ticks": ""
             }
            },
            "type": "scatter3d"
           }
          ],
          "scattercarpet": [
           {
            "marker": {
             "colorbar": {
              "outlinewidth": 0,
              "ticks": ""
             }
            },
            "type": "scattercarpet"
           }
          ],
          "scattergeo": [
           {
            "marker": {
             "colorbar": {
              "outlinewidth": 0,
              "ticks": ""
             }
            },
            "type": "scattergeo"
           }
          ],
          "scattergl": [
           {
            "marker": {
             "colorbar": {
              "outlinewidth": 0,
              "ticks": ""
             }
            },
            "type": "scattergl"
           }
          ],
          "scattermapbox": [
           {
            "marker": {
             "colorbar": {
              "outlinewidth": 0,
              "ticks": ""
             }
            },
            "type": "scattermapbox"
           }
          ],
          "scatterpolar": [
           {
            "marker": {
             "colorbar": {
              "outlinewidth": 0,
              "ticks": ""
             }
            },
            "type": "scatterpolar"
           }
          ],
          "scatterpolargl": [
           {
            "marker": {
             "colorbar": {
              "outlinewidth": 0,
              "ticks": ""
             }
            },
            "type": "scatterpolargl"
           }
          ],
          "scatterternary": [
           {
            "marker": {
             "colorbar": {
              "outlinewidth": 0,
              "ticks": ""
             }
            },
            "type": "scatterternary"
           }
          ],
          "surface": [
           {
            "colorbar": {
             "outlinewidth": 0,
             "ticks": ""
            },
            "colorscale": [
             [
              0,
              "#0d0887"
             ],
             [
              0.1111111111111111,
              "#46039f"
             ],
             [
              0.2222222222222222,
              "#7201a8"
             ],
             [
              0.3333333333333333,
              "#9c179e"
             ],
             [
              0.4444444444444444,
              "#bd3786"
             ],
             [
              0.5555555555555556,
              "#d8576b"
             ],
             [
              0.6666666666666666,
              "#ed7953"
             ],
             [
              0.7777777777777778,
              "#fb9f3a"
             ],
             [
              0.8888888888888888,
              "#fdca26"
             ],
             [
              1,
              "#f0f921"
             ]
            ],
            "type": "surface"
           }
          ],
          "table": [
           {
            "cells": {
             "fill": {
              "color": "#EBF0F8"
             },
             "line": {
              "color": "white"
             }
            },
            "header": {
             "fill": {
              "color": "#C8D4E3"
             },
             "line": {
              "color": "white"
             }
            },
            "type": "table"
           }
          ]
         },
         "layout": {
          "annotationdefaults": {
           "arrowcolor": "#2a3f5f",
           "arrowhead": 0,
           "arrowwidth": 1
          },
          "autotypenumbers": "strict",
          "coloraxis": {
           "colorbar": {
            "outlinewidth": 0,
            "ticks": ""
           }
          },
          "colorscale": {
           "diverging": [
            [
             0,
             "#8e0152"
            ],
            [
             0.1,
             "#c51b7d"
            ],
            [
             0.2,
             "#de77ae"
            ],
            [
             0.3,
             "#f1b6da"
            ],
            [
             0.4,
             "#fde0ef"
            ],
            [
             0.5,
             "#f7f7f7"
            ],
            [
             0.6,
             "#e6f5d0"
            ],
            [
             0.7,
             "#b8e186"
            ],
            [
             0.8,
             "#7fbc41"
            ],
            [
             0.9,
             "#4d9221"
            ],
            [
             1,
             "#276419"
            ]
           ],
           "sequential": [
            [
             0,
             "#0d0887"
            ],
            [
             0.1111111111111111,
             "#46039f"
            ],
            [
             0.2222222222222222,
             "#7201a8"
            ],
            [
             0.3333333333333333,
             "#9c179e"
            ],
            [
             0.4444444444444444,
             "#bd3786"
            ],
            [
             0.5555555555555556,
             "#d8576b"
            ],
            [
             0.6666666666666666,
             "#ed7953"
            ],
            [
             0.7777777777777778,
             "#fb9f3a"
            ],
            [
             0.8888888888888888,
             "#fdca26"
            ],
            [
             1,
             "#f0f921"
            ]
           ],
           "sequentialminus": [
            [
             0,
             "#0d0887"
            ],
            [
             0.1111111111111111,
             "#46039f"
            ],
            [
             0.2222222222222222,
             "#7201a8"
            ],
            [
             0.3333333333333333,
             "#9c179e"
            ],
            [
             0.4444444444444444,
             "#bd3786"
            ],
            [
             0.5555555555555556,
             "#d8576b"
            ],
            [
             0.6666666666666666,
             "#ed7953"
            ],
            [
             0.7777777777777778,
             "#fb9f3a"
            ],
            [
             0.8888888888888888,
             "#fdca26"
            ],
            [
             1,
             "#f0f921"
            ]
           ]
          },
          "colorway": [
           "#636efa",
           "#EF553B",
           "#00cc96",
           "#ab63fa",
           "#FFA15A",
           "#19d3f3",
           "#FF6692",
           "#B6E880",
           "#FF97FF",
           "#FECB52"
          ],
          "font": {
           "color": "#2a3f5f"
          },
          "geo": {
           "bgcolor": "white",
           "lakecolor": "white",
           "landcolor": "#E5ECF6",
           "showlakes": true,
           "showland": true,
           "subunitcolor": "white"
          },
          "hoverlabel": {
           "align": "left"
          },
          "hovermode": "closest",
          "mapbox": {
           "style": "light"
          },
          "paper_bgcolor": "white",
          "plot_bgcolor": "#E5ECF6",
          "polar": {
           "angularaxis": {
            "gridcolor": "white",
            "linecolor": "white",
            "ticks": ""
           },
           "bgcolor": "#E5ECF6",
           "radialaxis": {
            "gridcolor": "white",
            "linecolor": "white",
            "ticks": ""
           }
          },
          "scene": {
           "xaxis": {
            "backgroundcolor": "#E5ECF6",
            "gridcolor": "white",
            "gridwidth": 2,
            "linecolor": "white",
            "showbackground": true,
            "ticks": "",
            "zerolinecolor": "white"
           },
           "yaxis": {
            "backgroundcolor": "#E5ECF6",
            "gridcolor": "white",
            "gridwidth": 2,
            "linecolor": "white",
            "showbackground": true,
            "ticks": "",
            "zerolinecolor": "white"
           },
           "zaxis": {
            "backgroundcolor": "#E5ECF6",
            "gridcolor": "white",
            "gridwidth": 2,
            "linecolor": "white",
            "showbackground": true,
            "ticks": "",
            "zerolinecolor": "white"
           }
          },
          "shapedefaults": {
           "line": {
            "color": "#2a3f5f"
           }
          },
          "ternary": {
           "aaxis": {
            "gridcolor": "white",
            "linecolor": "white",
            "ticks": ""
           },
           "baxis": {
            "gridcolor": "white",
            "linecolor": "white",
            "ticks": ""
           },
           "bgcolor": "#E5ECF6",
           "caxis": {
            "gridcolor": "white",
            "linecolor": "white",
            "ticks": ""
           }
          },
          "title": {
           "x": 0.05
          },
          "xaxis": {
           "automargin": true,
           "gridcolor": "white",
           "linecolor": "white",
           "ticks": "",
           "title": {
            "standoff": 15
           },
           "zerolinecolor": "white",
           "zerolinewidth": 2
          },
          "yaxis": {
           "automargin": true,
           "gridcolor": "white",
           "linecolor": "white",
           "ticks": "",
           "title": {
            "standoff": 15
           },
           "zerolinecolor": "white",
           "zerolinewidth": 2
          }
         }
        },
        "title": {
         "text": "Flow Between Funders and Projects (Top 50 Projects Funded by Gitcoin)"
        }
       }
      },
      "image/png": "[encoded data removed]",
      "text/html": [
       "<div>                            <div id=\"276d4c99-c413-4c97-90bd-26f8d2a49bfa\" class=\"plotly-graph-div\" style=\"height:800px; width:100%;\"></div>            <script type=\"text/javascript\">                require([\"plotly\"], function(Plotly) {                    window.PLOTLYENV=window.PLOTLYENV || {};                                    if (document.getElementById(\"276d4c99-c413-4c97-90bd-26f8d2a49bfa\")) {                    Plotly.newPlot(                        \"276d4c99-c413-4c97-90bd-26f8d2a49bfa\",                        [{\"link\":{\"hovertemplate\":\"Funding Amount: %{value}\\u003cextra\\u003e\\u003c\\u002fextra\\u003e\",\"source\":[0,1,1,0,1,0,1,2,1,1,0,3,2,0,1,0,1,0,1,2,1,0,1,1,0,1,1,0,1,4,0,1,4,5,2,0,1,1,0,3,1,0,1,1,0,2,0,1,3,6,4,0,1,0,1,1,1,0,1,3,0,1,3,0,1,0,1,1,0,1,0,1,4,2,0,3,1,2,1,1,1,0,3,0,1,3,4,2,1,0,1,0,1,0,1,1,3,0,1,2,0,1,1,5,0,1,1,1],\"target\":[7,7,8,9,9,10,10,10,11,12,12,12,12,13,13,14,14,15,15,15,16,17,17,18,18,19,20,21,21,21,22,22,22,22,22,23,23,24,24,24,25,26,26,27,27,27,28,28,28,28,28,29,29,30,30,31,32,33,33,33,34,34,34,35,35,36,36,37,38,38,39,39,39,39,40,40,40,40,41,42,43,43,43,44,44,44,44,44,45,45,46,47,47,48,48,49,49,50,50,50,51,51,52,52,53,53,54,55],\"value\":[309081.0,167251.94255999153,132240.81125790987,941367.365,266918.33556130395,793543.495,117282.90934402226,256.807026055038,129774.31101636638,267973.0197905392,260870.61,13053.2,4256.11048459251,1166407.8523421397,256709.7572184696,403536.25,203932.1900311041,1092793.99818689,265624.89499999577,2236.9713626425,168708.3846517977,1860698.319002579,713440.3877172214,218604.18619345952,50558.8232380367,136923.35014185138,396257.69858583563,486232.48,155649.21491518852,10530.0,1357193.975,553467.3981447871,11801.0,720.0,624.205014723282,267559.355,255548.72031650387,326678.8092058637,286957.685,59700.335,196192.486434481,504133.795,153922.54981679,176643.29391242636,114304.795,35.1500685654214,784193.9909726208,142979.88177474908,93294.03099999999,50000.0,18186.0,2483748.427972734,173562.38382970728,980873.53,215308.29425350836,483399.2573993966,415608.3780523415,545879.98,221968.44274581174,13832.25,1080095.995,342533.06061922346,40684.696,1116801.126632725,142929.8792980785,1528832.896099024,381919.63572724967,186142.47450496853,1817697.213313959,119369.75194994298,699529.685,117920.2968805752,7716.0,511.947768288335,3539192.294284813,411288.856,191245.70042677797,5122.57263128073,370638.76337887,223062.8152422189,839105.1566493114,631976.255,38577.908,990420.755,611925.9379990406,154957.00300000003,10863.0,1416.56143555841,433372.0809777215,236374.88,120845.51965130283,914203.495,125990.79849602577,500000.0,179108.065172602,356788.356058815,75935.509,586063.3200000001,152470.6104424287,251.75310016041,375000.0,186674.18493302885,136707.00180181194,1.0,930349.495,179007.73436845766,325870.17083115055,291415.5236712398]},\"node\":{\"label\":[\"optimism\",\"gitcoin\",\"clrfund\",\"octant-golemfoundation\",\"dao-drops-dorgtech\",\"opencollective\",\"stellar\",\"0xparc\",\"4everland\",\"beacon-chain\",\"blockscout\",\"bloomnetwork\",\"brightid\",\"buidlguidl\",\"commons-stack\",\"dappnode\",\"dataverse-os\",\"defi-llama\",\"defieye\",\"edendao\",\"electronic-frontier-foundation\",\"eth-limo\",\"ethers-io\",\"ethhub-io\",\"ethstaker\",\"fileverse\",\"frame-floating\",\"geo-web\",\"giveth\",\"go-ethereum\",\"hardhat-nomicfoundation\",\"heyxyz\",\"jedi-swap\",\"kernel-community\",\"l2beat\",\"lifinance\",\"lighthouse-sigp\",\"mummy-finance\",\"nethermindeth\",\"otterscan\",\"protocol-guild\",\"prysmaticlabs\",\"rekthq\",\"revoke-cash\",\"rotki\",\"scopelift\",\"shambadynamic\",\"snapshot-labs\",\"taho-wallet\",\"tor-project\",\"trueblocks\",\"via-protocol\",\"walletconnect\",\"wevm\",\"zeropoolnetwork\",\"zigzagexchange\"],\"line\":{\"color\":\"black\",\"width\":0.5},\"pad\":15,\"thickness\":20},\"type\":\"sankey\"}],                        {\"template\":{\"data\":{\"histogram2dcontour\":[{\"type\":\"histogram2dcontour\",\"colorbar\":{\"outlinewidth\":0,\"ticks\":\"\"},\"colorscale\":[[0.0,\"#0d0887\"],[0.1111111111111111,\"#46039f\"],[0.2222222222222222,\"#7201a8\"],[0.3333333333333333,\"#9c179e\"],[0.4444444444444444,\"#bd3786\"],[0.5555555555555556,\"#d8576b\"],[0.6666666666666666,\"#ed7953\"],[0.7777777777777778,\"#fb9f3a\"],[0.8888888888888888,\"#fdca26\"],[1.0,\"#f0f921\"]]}],\"choropleth\":[{\"type\":\"choropleth\",\"colorbar\":{\"outlinewidth\":0,\"ticks\":\"\"}}],\"histogram2d\":[{\"type\":\"histogram2d\",\"colorbar\":{\"outlinewidth\":0,\"ticks\":\"\"},\"colorscale\":[[0.0,\"#0d0887\"],[0.1111111111111111,\"#46039f\"],[0.2222222222222222,\"#7201a8\"],[0.3333333333333333,\"#9c179e\"],[0.4444444444444444,\"#bd3786\"],[0.5555555555555556,\"#d8576b\"],[0.6666666666666666,\"#ed7953\"],[0.7777777777777778,\"#fb9f3a\"],[0.8888888888888888,\"#fdca26\"],[1.0,\"#f0f921\"]]}],\"heatmap\":[{\"type\":\"heatmap\",\"colorbar\":{\"outlinewidth\":0,\"ticks\":\"\"},\"colorscale\":[[0.0,\"#0d0887\"],[0.1111111111111111,\"#46039f\"],[0.2222222222222222,\"#7201a8\"],[0.3333333333333333,\"#9c179e\"],[0.4444444444444444,\"#bd3786\"],[0.5555555555555556,\"#d8576b\"],[0.6666666666666666,\"#ed7953\"],[0.7777777777777778,\"#fb9f3a\"],[0.8888888888888888,\"#fdca26\"],[1.0,\"#f0f921\"]]}],\"heatmapgl\":[{\"type\":\"heatmapgl\",\"colorbar\":{\"outlinewidth\":0,\"ticks\":\"\"},\"colorscale\":[[0.0,\"#0d0887\"],[0.1111111111111111,\"#46039f\"],[0.2222222222222222,\"#7201a8\"],[0.3333333333333333,\"#9c179e\"],[0.4444444444444444,\"#bd3786\"],[0.5555555555555556,\"#d8576b\"],[0.6666666666666666,\"#ed7953\"],[0.7777777777777778,\"#fb9f3a\"],[0.8888888888888888,\"#fdca26\"],[1.0,\"#f0f921\"]]}],\"contourcarpet\":[{\"type\":\"contourcarpet\",\"colorbar\":{\"outlinewidth\":0,\"ticks\":\"\"}}],\"contour\":[{\"type\":\"contour\",\"colorbar\":{\"outlinewidth\":0,\"ticks\":\"\"},\"colorscale\":[[0.0,\"#0d0887\"],[0.1111111111111111,\"#46039f\"],[0.2222222222222222,\"#7201a8\"],[0.3333333333333333,\"#9c179e\"],[0.4444444444444444,\"#bd3786\"],[0.5555555555555556,\"#d8576b\"],[0.6666666666666666,\"#ed7953\"],[0.7777777777777778,\"#fb9f3a\"],[0.8888888888888888,\"#fdca26\"],[1.0,\"#f0f921\"]]}],\"surface\":[{\"type\":\"surface\",\"colorbar\":{\"outlinewidth\":0,\"ticks\":\"\"},\"colorscale\":[[0.0,\"#0d0887\"],[0.1111111111111111,\"#46039f\"],[0.2222222222222222,\"#7201a8\"],[0.3333333333333333,\"#9c179e\"],[0.4444444444444444,\"#bd3786\"],[0.5555555555555556,\"#d8576b\"],[0.6666666666666666,\"#ed7953\"],[0.7777777777777778,\"#fb9f3a\"],[0.8888888888888888,\"#fdca26\"],[1.0,\"#f0f921\"]]}],\"mesh3d\":[{\"type\":\"mesh3d\",\"colorbar\":{\"outlinewidth\":0,\"ticks\":\"\"}}],\"scatter\":[{\"fillpattern\":{\"fillmode\":\"overlay\",\"size\":10,\"solidity\":0.2},\"type\":\"scatter\"}],\"parcoords\":[{\"type\":\"parcoords\",\"line\":{\"colorbar\":{\"outlinewidth\":0,\"ticks\":\"\"}}}],\"scatterpolargl\":[{\"type\":\"scatterpolargl\",\"marker\":{\"colorbar\":{\"outlinewidth\":0,\"ticks\":\"\"}}}],\"bar\":[{\"error_x\":{\"color\":\"#2a3f5f\"},\"error_y\":{\"color\":\"#2a3f5f\"},\"marker\":{\"line\":{\"color\":\"#E5ECF6\",\"width\":0.5},\"pattern\":{\"fillmode\":\"overlay\",\"size\":10,\"solidity\":0.2}},\"type\":\"bar\"}],\"scattergeo\":[{\"type\":\"scattergeo\",\"marker\":{\"colorbar\":{\"outlinewidth\":0,\"ticks\":\"\"}}}],\"scatterpolar\":[{\"type\":\"scatterpolar\",\"marker\":{\"colorbar\":{\"outlinewidth\":0,\"ticks\":\"\"}}}],\"histogram\":[{\"marker\":{\"pattern\":{\"fillmode\":\"overlay\",\"size\":10,\"solidity\":0.2}},\"type\":\"histogram\"}],\"scattergl\":[{\"type\":\"scattergl\",\"marker\":{\"colorbar\":{\"outlinewidth\":0,\"ticks\":\"\"}}}],\"scatter3d\":[{\"type\":\"scatter3d\",\"line\":{\"colorbar\":{\"outlinewidth\":0,\"ticks\":\"\"}},\"marker\":{\"colorbar\":{\"outlinewidth\":0,\"ticks\":\"\"}}}],\"scattermapbox\":[{\"type\":\"scattermapbox\",\"marker\":{\"colorbar\":{\"outlinewidth\":0,\"ticks\":\"\"}}}],\"scatterternary\":[{\"type\":\"scatterternary\",\"marker\":{\"colorbar\":{\"outlinewidth\":0,\"ticks\":\"\"}}}],\"scattercarpet\":[{\"type\":\"scattercarpet\",\"marker\":{\"colorbar\":{\"outlinewidth\":0,\"ticks\":\"\"}}}],\"carpet\":[{\"aaxis\":{\"endlinecolor\":\"#2a3f5f\",\"gridcolor\":\"white\",\"linecolor\":\"white\",\"minorgridcolor\":\"white\",\"startlinecolor\":\"#2a3f5f\"},\"baxis\":{\"endlinecolor\":\"#2a3f5f\",\"gridcolor\":\"white\",\"linecolor\":\"white\",\"minorgridcolor\":\"white\",\"startlinecolor\":\"#2a3f5f\"},\"type\":\"carpet\"}],\"table\":[{\"cells\":{\"fill\":{\"color\":\"#EBF0F8\"},\"line\":{\"color\":\"white\"}},\"header\":{\"fill\":{\"color\":\"#C8D4E3\"},\"line\":{\"color\":\"white\"}},\"type\":\"table\"}],\"barpolar\":[{\"marker\":{\"line\":{\"color\":\"#E5ECF6\",\"width\":0.5},\"pattern\":{\"fillmode\":\"overlay\",\"size\":10,\"solidity\":0.2}},\"type\":\"barpolar\"}],\"pie\":[{\"automargin\":true,\"type\":\"pie\"}]},\"layout\":{\"autotypenumbers\":\"strict\",\"colorway\":[\"#636efa\",\"#EF553B\",\"#00cc96\",\"#ab63fa\",\"#FFA15A\",\"#19d3f3\",\"#FF6692\",\"#B6E880\",\"#FF97FF\",\"#FECB52\"],\"font\":{\"color\":\"#2a3f5f\"},\"hovermode\":\"closest\",\"hoverlabel\":{\"align\":\"left\"},\"paper_bgcolor\":\"white\",\"plot_bgcolor\":\"#E5ECF6\",\"polar\":{\"bgcolor\":\"#E5ECF6\",\"angularaxis\":{\"gridcolor\":\"white\",\"linecolor\":\"white\",\"ticks\":\"\"},\"radialaxis\":{\"gridcolor\":\"white\",\"linecolor\":\"white\",\"ticks\":\"\"}},\"ternary\":{\"bgcolor\":\"#E5ECF6\",\"aaxis\":{\"gridcolor\":\"white\",\"linecolor\":\"white\",\"ticks\":\"\"},\"baxis\":{\"gridcolor\":\"white\",\"linecolor\":\"white\",\"ticks\":\"\"},\"caxis\":{\"gridcolor\":\"white\",\"linecolor\":\"white\",\"ticks\":\"\"}},\"coloraxis\":{\"colorbar\":{\"outlinewidth\":0,\"ticks\":\"\"}},\"colorscale\":{\"sequential\":[[0.0,\"#0d0887\"],[0.1111111111111111,\"#46039f\"],[0.2222222222222222,\"#7201a8\"],[0.3333333333333333,\"#9c179e\"],[0.4444444444444444,\"#bd3786\"],[0.5555555555555556,\"#d8576b\"],[0.6666666666666666,\"#ed7953\"],[0.7777777777777778,\"#fb9f3a\"],[0.8888888888888888,\"#fdca26\"],[1.0,\"#f0f921\"]],\"sequentialminus\":[[0.0,\"#0d0887\"],[0.1111111111111111,\"#46039f\"],[0.2222222222222222,\"#7201a8\"],[0.3333333333333333,\"#9c179e\"],[0.4444444444444444,\"#bd3786\"],[0.5555555555555556,\"#d8576b\"],[0.6666666666666666,\"#ed7953\"],[0.7777777777777778,\"#fb9f3a\"],[0.8888888888888888,\"#fdca26\"],[1.0,\"#f0f921\"]],\"diverging\":[[0,\"#8e0152\"],[0.1,\"#c51b7d\"],[0.2,\"#de77ae\"],[0.3,\"#f1b6da\"],[0.4,\"#fde0ef\"],[0.5,\"#f7f7f7\"],[0.6,\"#e6f5d0\"],[0.7,\"#b8e186\"],[0.8,\"#7fbc41\"],[0.9,\"#4d9221\"],[1,\"#276419\"]]},\"xaxis\":{\"gridcolor\":\"white\",\"linecolor\":\"white\",\"ticks\":\"\",\"title\":{\"standoff\":15},\"zerolinecolor\":\"white\",\"automargin\":true,\"zerolinewidth\":2},\"yaxis\":{\"gridcolor\":\"white\",\"linecolor\":\"white\",\"ticks\":\"\",\"title\":{\"standoff\":15},\"zerolinecolor\":\"white\",\"automargin\":true,\"zerolinewidth\":2},\"scene\":{\"xaxis\":{\"backgroundcolor\":\"#E5ECF6\",\"gridcolor\":\"white\",\"linecolor\":\"white\",\"showbackground\":true,\"ticks\":\"\",\"zerolinecolor\":\"white\",\"gridwidth\":2},\"yaxis\":{\"backgroundcolor\":\"#E5ECF6\",\"gridcolor\":\"white\",\"linecolor\":\"white\",\"showbackground\":true,\"ticks\":\"\",\"zerolinecolor\":\"white\",\"gridwidth\":2},\"zaxis\":{\"backgroundcolor\":\"#E5ECF6\",\"gridcolor\":\"white\",\"linecolor\":\"white\",\"showbackground\":true,\"ticks\":\"\",\"zerolinecolor\":\"white\",\"gridwidth\":2}},\"shapedefaults\":{\"line\":{\"color\":\"#2a3f5f\"}},\"annotationdefaults\":{\"arrowcolor\":\"#2a3f5f\",\"arrowhead\":0,\"arrowwidth\":1},\"geo\":{\"bgcolor\":\"white\",\"landcolor\":\"#E5ECF6\",\"subunitcolor\":\"white\",\"showland\":true,\"showlakes\":true,\"lakecolor\":\"white\"},\"title\":{\"x\":0.05},\"mapbox\":{\"style\":\"light\"}}},\"title\":{\"text\":\"Flow Between Funders and Projects (Top 50 Projects Funded by Gitcoin)\"},\"font\":{\"size\":10},\"height\":800},                        {\"responsive\": true}                    ).then(function(){\n",
       "                            \n",
       "var gd = document.getElementById('276d4c99-c413-4c97-90bd-26f8d2a49bfa');\n",
       "var x = new MutationObserver(function (mutations, observer) {{\n",
       "        var display = window.getComputedStyle(gd).display;\n",
       "        if (!display || display === 'none') {{\n",
       "            console.log([gd, 'removed!']);\n",
       "            Plotly.purge(gd);\n",
       "            observer.disconnect();\n",
       "        }}\n",
       "}});\n",
       "\n",
       "// Listen for the removal of the full notebook cells\n",
       "var notebookContainer = gd.closest('#notebook-container');\n",
       "if (notebookContainer) {{\n",
       "    x.observe(notebookContainer, {childList: true});\n",
       "}}\n",
       "\n",
       "// Listen for the clearing of the current output cell\n",
       "var outputEl = gd.closest('.output');\n",
       "if (outputEl) {{\n",
       "    x.observe(outputEl, {childList: true});\n",
       "}}\n",
       "\n",
       "                        })                };                });            </script>        </div>"
      ]
     },
     "metadata": {},
     "output_type": "display_data"
    }
   ],
   "source": [
    "import plotly.graph_objects as go\n",
    "\n",
    "# Assuming `results_df` is the dataframe containing the query results\n",
    "results_df = results.to_dataframe()\n",
    "\n",
    "# Prepare data for the chord diagram\n",
    "funder_names = results_df['funder'].unique().tolist()\n",
    "project_names = results_df['project'].unique().tolist()\n",
    "all_names = funder_names + project_names\n",
    "\n",
    "# Create a mapping for funders and projects to indices\n",
    "name_to_index = {name: i for i, name in enumerate(all_names)}\n",
    "\n",
    "# Map funders and projects to their indices\n",
    "results_df['funder_index'] = results_df['funder'].map(name_to_index)\n",
    "results_df['project_index'] = results_df['project'].map(name_to_index)\n",
    "\n",
    "# Create the chord diagram using Plotly\n",
    "fig = go.Figure(go.Sankey(\n",
    "    node=dict(\n",
    "        pad=15,\n",
    "        thickness=20,\n",
    "        line=dict(color=\"black\", width=0.5),\n",
    "        label=all_names\n",
    "    ),\n",
    "    link=dict(\n",
    "        source=results_df['funder_index'],\n",
    "        target=results_df['project_index'],\n",
    "        value=results_df['funding_amount'],\n",
    "        hovertemplate='Funding Amount: %{value}<extra></extra>'\n",
    "    )\n",
    "))\n",
    "\n",
    "# Update layout for better visualization\n",
    "fig.update_layout(\n",
    "    title_text=\"Flow Between Funders and Projects (Top 50 Projects Funded by Gitcoin)\",\n",
    "    font_size=10,\n",
    "    height = 800\n",
    "    \n",
    ")\n",
    "\n",
    "# Show the chord map visual\n",
    "fig.show()\n"
   ]
  },
  {
   "cell_type": "code",
   "execution_count": null,
   "id": "59e14aaa-ac4e-4da8-8484-f06e7be3c927",
   "metadata": {},
   "outputs": [],
   "source": []
  }
 ],
 "metadata": {
  "kernelspec": {
   "display_name": "Python 3 (ipykernel)",
   "language": "python",
   "name": "python3"
  },
  "language_info": {
   "codemirror_mode": {
    "name": "ipython",
    "version": 3
   },
   "file_extension": ".py",
   "mimetype": "text/x-python",
   "name": "python",
   "nbconvert_exporter": "python",
   "pygments_lexer": "ipython3",
   "version": "3.9.6"
  }
 },
 "nbformat": 4,
 "nbformat_minor": 5
}
